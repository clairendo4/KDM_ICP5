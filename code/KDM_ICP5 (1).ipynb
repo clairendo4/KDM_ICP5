{
  "nbformat": 4,
  "nbformat_minor": 0,
  "metadata": {
    "colab": {
      "name": "KDM_ICP5.ipynb",
      "provenance": [],
      "collapsed_sections": []
    },
    "kernelspec": {
      "name": "python3",
      "display_name": "Python 3"
    }
  },
  "cells": [
    {
      "cell_type": "markdown",
      "metadata": {
        "id": "LMyBcJmgYkRr"
      },
      "source": [
        "**Create 5 separate text files containing text data (blogs,news articles etc)and perform the following Tasks:**"
      ]
    },
    {
      "cell_type": "code",
      "metadata": {
        "colab": {
          "base_uri": "https://localhost:8080/"
        },
        "id": "l7YoX4AeKiqB",
        "outputId": "8aa72f02-0952-4a07-b62b-50130c676c75"
      },
      "source": [
        "#installing pyspark\r\n",
        "!pip install pyspark"
      ],
      "execution_count": 1,
      "outputs": [
        {
          "output_type": "stream",
          "text": [
            "Requirement already satisfied: pyspark in /usr/local/lib/python3.6/dist-packages (3.0.2)\n",
            "Requirement already satisfied: py4j==0.10.9 in /usr/local/lib/python3.6/dist-packages (from pyspark) (0.10.9)\n"
          ],
          "name": "stdout"
        }
      ]
    },
    {
      "cell_type": "code",
      "metadata": {
        "id": "eppOfKg5IMr1"
      },
      "source": [
        "#importing libraries needed for icp\r\n",
        "from __future__ import print_function\r\n",
        "from pyspark import SparkConf, SparkContext\r\n",
        "from pyspark.ml.feature import HashingTF, IDF, Tokenizer\r\n",
        "from pyspark.sql import SparkSession\r\n",
        "from pyspark.ml.feature import NGram\r\n",
        "from pyspark.ml.feature import Word2Vec"
      ],
      "execution_count": 2,
      "outputs": []
    },
    {
      "cell_type": "code",
      "metadata": {
        "id": "1ldo-CmiINuV"
      },
      "source": [
        "# This line of code is to create the spark session, we name our sparksession as TF_IDF\r\n",
        "spark = SparkSession.builder.appName(\"TFIDF icp\").getOrCreate()"
      ],
      "execution_count": 3,
      "outputs": []
    },
    {
      "cell_type": "code",
      "metadata": {
        "id": "03AOaIb4IUsE"
      },
      "source": [
        "# Creating the spark dataframe with the five text files mounted to my google drive\r\n",
        "spark2 = spark.read.text('/content/text*.txt')"
      ],
      "execution_count": 4,
      "outputs": []
    },
    {
      "cell_type": "code",
      "metadata": {
        "id": "a61GR9ftK_7T"
      },
      "source": [
        "# Here we are applying tokenization on the text files, let us call it textdata\r\n",
        "tokenizer = Tokenizer(inputCol=\"value\", outputCol=\"words\")\r\n",
        "textdata = tokenizer.transform(spark2)"
      ],
      "execution_count": 5,
      "outputs": []
    },
    {
      "cell_type": "code",
      "metadata": {
        "colab": {
          "base_uri": "https://localhost:8080/"
        },
        "id": "SSTlYabuLES1",
        "outputId": "794b2ebf-cc96-4b4e-e1b8-fc4fa602af23"
      },
      "source": [
        "#let us view our textdata and their tokens\r\n",
        "textdata.show()"
      ],
      "execution_count": 6,
      "outputs": [
        {
          "output_type": "stream",
          "text": [
            "+--------------------+--------------------+\n",
            "|               value|               words|\n",
            "+--------------------+--------------------+\n",
            "|Kobach’s law bloc...|[kobach’s, law, b...|\n",
            "|                    |                  []|\n",
            "|The law was neces...|[the, law, was, n...|\n",
            "|                    |                  []|\n",
            "|Kansas Attorney G...|[kansas, attorney...|\n",
            "|Even during the C...|[even, during, th...|\n",
            "|Even during the C...|[even, during, th...|\n",
            "|                    |                  []|\n",
            "|Today, however, M...|[today,, however,...|\n",
            "|Draghi’s ascensio...|[draghi’s, ascens...|\n",
            "|AllianceChicago c...|[alliancechicago,...|\n",
            "|Mark Johnson, an ...|[mark, johnson,, ...|\n",
            "+--------------------+--------------------+\n",
            "\n"
          ],
          "name": "stdout"
        }
      ]
    },
    {
      "cell_type": "markdown",
      "metadata": {
        "id": "RZbf8EJbaTnz"
      },
      "source": [
        "**1a) Find out the top10 TF-IDF words for the above input.**"
      ]
    },
    {
      "cell_type": "code",
      "metadata": {
        "id": "mnV2zLp_Lg4f"
      },
      "source": [
        "# applying tf on the textwords\r\n",
        "hashingTF = HashingTF(inputCol=\"words\", outputCol=\"rawFeatures\", numFeatures=10)\r\n",
        "featurizedData = hashingTF.transform(textdata)"
      ],
      "execution_count": 7,
      "outputs": []
    },
    {
      "cell_type": "code",
      "metadata": {
        "colab": {
          "base_uri": "https://localhost:8080/"
        },
        "id": "pjdL30CVLmlf",
        "outputId": "f8ec5572-4fb2-41fa-9b4f-dd3b9ff2fb54"
      },
      "source": [
        "# calculating the IDF\r\n",
        "idf = IDF(inputCol=\"rawFeatures\", outputCol=\"features\")\r\n",
        "idfModel = idf.fit(featurizedData)\r\n",
        "rescaledData = idfModel.transform(featurizedData)\r\n",
        "print(rescaledData)"
      ],
      "execution_count": 8,
      "outputs": [
        {
          "output_type": "stream",
          "text": [
            "DataFrame[value: string, words: array<string>, rawFeatures: vector, features: vector]\n"
          ],
          "name": "stdout"
        }
      ]
    },
    {
      "cell_type": "code",
      "metadata": {
        "colab": {
          "base_uri": "https://localhost:8080/"
        },
        "id": "HHa1_D2JLuWT",
        "outputId": "1c3553b1-283e-49d3-e51b-d19ccc3bde41"
      },
      "source": [
        "# Display the results of the top 10 TF-IDF words for our input data\r\n",
        "rescaledData.select(\"value\",\"features\").show(10, truncate=False)"
      ],
      "execution_count": 9,
      "outputs": [
        {
          "output_type": "stream",
          "text": [
            "+--------------------------------------------------------------------------------------------------------------------------------------------------------------------------------------------------------------------------------------------------------------------------------------------------------------------------------------------------------------------------------------------------------------------------------------------------------------------------------------------------------------------------------------------------------------------------------------------------------------------------------------------------------------------------------------------+-----------------------------------------------------------------------------------------------------------------------------------------------------------------------------------------------------------+\n",
            "|value                                                                                                                                                                                                                                                                                                                                                                                                                                                                                                                                                                                                                                                                                       |features                                                                                                                                                                                                   |\n",
            "+--------------------------------------------------------------------------------------------------------------------------------------------------------------------------------------------------------------------------------------------------------------------------------------------------------------------------------------------------------------------------------------------------------------------------------------------------------------------------------------------------------------------------------------------------------------------------------------------------------------------------------------------------------------------------------------------+-----------------------------------------------------------------------------------------------------------------------------------------------------------------------------------------------------------+\n",
            "|Kobach’s law blocked the registrations of more than 35,000 eligible Kansas voters and dissuaded countless others from attempting to register.                                                                                                                                                                                                                                                                                                                                                                                                                                                                                                                                               |(10,[0,1,2,4,5,6,7,8,9],[0.7870927934024732,0.7870927934024732,0.0,0.7870927934024732,0.5247285289349821,0.36772478012531734,0.26236426446749106,0.5247285289349821,0.7870927934024732])                   |\n",
            "|                                                                                                                                                                                                                                                                                                                                                                                                                                                                                                                                                                                                                                                                                            |(10,[2],[0.0])                                                                                                                                                                                             |\n",
            "|The law was necessary, Kobach argued, because the handful of known voter fraud cases were the “tip of the iceberg.” When he failed in court to provide evidence supporting the claim, U.S. District Court Judge Julie Robinson said the iceberg was “only an icicle” and ruled the law unconstitutional.                                                                                                                                                                                                                                                                                                                                                                                    |(10,[0,1,2,3,4,5,6,7,8,9],[0.7870927934024732,1.3118213223374553,0.0,2.206348680751904,0.5247285289349821,1.3118213223374553,1.4708991205012694,2.3612783802074198,1.5741855868049464,1.3118213223374553]) |\n",
            "|                                                                                                                                                                                                                                                                                                                                                                                                                                                                                                                                                                                                                                                                                            |(10,[2],[0.0])                                                                                                                                                                                             |\n",
            "|Kansas Attorney General Derek Schmidt and Secretary of State Scott Schwab picked up the baton when Kobach left office following his failed attempt to become governor. An appeals court again rejected the state’s arguments in support of the law, and the U.S. Supreme Court                                                                                                                                                                                                                                                                                                                                                                                                              |(10,[0,1,2,3,4,5,6,7,8,9],[0.7870927934024732,1.5741855868049464,0.0,0.7354495602506347,1.3118213223374553,1.5741855868049464,1.103174340375952,1.5741855868049464,1.3118213223374553,1.0494570578699642]) |\n",
            "|Even during the Cold War , West Germany defied three American president – Nixon , Carter , and Reagan – by bartering steel pipe for Soviet energy . But what might have made economic sense during the global oil shock of the 1970s now reflects only Bismarck ’ s admonition : Don ’ t rile the Russians . Today , however , Merkel is acting on a new stage , and not only because of oversupply and dwindling demand a the industrial world shift to solar , wind , and higher efficiency . Suddenly , Merkel is “ home alone. ” It is not just the US , Britain , and nervous East Europeans who want to reduce Nord Stream 2 to scrap . Even the French are turning against the deal .|(10,[0,1,2,3,4,5,6,7,8,9],[2.8860069091424014,4.460192495947348,0.0,3.309523021127856,1.8365498512724374,5.247285289349821,3.6772478012531735,7.34619940508975,3.1483711736098927,2.8860069091424014])     |\n",
            "|Even during the Cold War, West Germany defied three American presidents – Nixon, Carter, and Reagan – by bartering steel pipes for Soviet energy. But what might have made economic sense during the global oil shocks of the 1970s now reflects only Bismarck’s admonition: Don’t rile the Russians.                                                                                                                                                                                                                                                                                                                                                                                       |(10,[0,1,2,3,4,5,6,7,8,9],[1.0494570578699642,2.3612783802074198,0.0,1.4708991205012694,1.8365498512724374,2.6236426446749106,1.103174340375952,1.3118213223374553,0.26236426446749106,1.0494570578699642])|\n",
            "|                                                                                                                                                                                                                                                                                                                                                                                                                                                                                                                                                                                                                                                                                            |(10,[2],[0.0])                                                                                                                                                                                             |\n",
            "|Today, however, Merkel is acting on a new stage, and not only because of oversupply and dwindling demand as the industrial world shifts to solar, wind, and higher efficiency. Suddenly, Merkel is “home alone.” It is not just the US, Britain, and nervous East Europeans who want to reduce Nord Stream 2 to scrap. Even the French are turning against the deal.                                                                                                                                                                                                                                                                                                                        |(10,[0,1,2,3,4,5,6,7,8,9],[1.3118213223374553,1.3118213223374553,0.0,2.5740734608772216,0.7870927934024732,2.0989141157399285,1.8386239006265868,2.0989141157399285,1.8365498512724374,2.3612783802074198])|\n",
            "|Draghi’s ascension to the European stage alongside Macron and Merkel also implies closer EU-US relations. US President Joe Biden could not find a better ally in Europe. Italy’s new government, Draghi vowed, will be “strongly pro-European and Atlanticist, in line with Italy’s historical anchors.” This marks a break with the foreign policy of Giuseppe Conte, the previous prime minister, who had aligned Italy more closely with China. Draghi is giving the transatlantic alliance a chance to recover after four years of Donald Trump’s strategic recklessness.                                                                                                               |(10,[0,1,2,3,4,5,6,7,8,9],[3.410735438077384,2.3612783802074198,0.0,3.309523021127856,1.0494570578699642,3.410735438077384,3.309523021127856,3.1483711736098927,1.5741855868049464,1.0494570578699642])    |\n",
            "+--------------------------------------------------------------------------------------------------------------------------------------------------------------------------------------------------------------------------------------------------------------------------------------------------------------------------------------------------------------------------------------------------------------------------------------------------------------------------------------------------------------------------------------------------------------------------------------------------------------------------------------------------------------------------------------------+-----------------------------------------------------------------------------------------------------------------------------------------------------------------------------------------------------------+\n",
            "only showing top 10 rows\n",
            "\n"
          ],
          "name": "stdout"
        }
      ]
    },
    {
      "cell_type": "markdown",
      "metadata": {
        "id": "-c_U_rn_rSt_"
      },
      "source": [
        "**1b)Find out the top10 TF-IDF words for the lemmatized input**"
      ]
    },
    {
      "cell_type": "code",
      "metadata": {
        "colab": {
          "base_uri": "https://localhost:8080/"
        },
        "id": "oecuSZvXrTww",
        "outputId": "6c6382f2-e9f5-4022-f990-359b208f5d8e"
      },
      "source": [
        "#import the nltk package\r\n",
        "import nltk\r\n",
        "#call the nltk downloader\r\n",
        "nltk.download()\r\n",
        "from nltk.stem import WordNetLemmatizer\r\n",
        "wordnet_lemmatizer = WordNetLemmatizer()\r\n",
        "nltk.download('wordnet')\r\n",
        "nltk.download('punkt')\r\n"
      ],
      "execution_count": null,
      "outputs": [
        {
          "output_type": "stream",
          "text": [
            "NLTK Downloader\n",
            "---------------------------------------------------------------------------\n",
            "    d) Download   l) List    u) Update   c) Config   h) Help   q) Quit\n",
            "---------------------------------------------------------------------------\n",
            "\n",
            "Download which package (l=list; x=cancel)?\n",
            "Packages:\n",
            "  [ ] abc................. Australian Broadcasting Commission 2006\n",
            "  [ ] alpino.............. Alpino Dutch Treebank\n",
            "  [ ] averaged_perceptron_tagger Averaged Perceptron Tagger\n",
            "  [ ] averaged_perceptron_tagger_ru Averaged Perceptron Tagger (Russian)\n",
            "  [ ] basque_grammars..... Grammars for Basque\n",
            "  [ ] biocreative_ppi..... BioCreAtIvE (Critical Assessment of Information\n",
            "                           Extraction Systems in Biology)\n",
            "  [ ] bllip_wsj_no_aux.... BLLIP Parser: WSJ Model\n",
            "  [ ] book_grammars....... Grammars from NLTK Book\n",
            "  [ ] brown............... Brown Corpus\n",
            "  [ ] brown_tei........... Brown Corpus (TEI XML Version)\n",
            "  [ ] cess_cat............ CESS-CAT Treebank\n",
            "  [ ] cess_esp............ CESS-ESP Treebank\n",
            "  [ ] chat80.............. Chat-80 Data Files\n",
            "  [ ] city_database....... City Database\n",
            "  [ ] cmudict............. The Carnegie Mellon Pronouncing Dictionary (0.6)\n",
            "  [ ] comparative_sentences Comparative Sentence Dataset\n",
            "  [ ] comtrans............ ComTrans Corpus Sample\n",
            "  [ ] conll2000........... CONLL 2000 Chunking Corpus\n",
            "  [ ] conll2002........... CONLL 2002 Named Entity Recognition Corpus\n",
            "  [ ] conll2007........... Dependency Treebanks from CoNLL 2007 (Catalan\n",
            "                           and Basque Subset)\n",
            "  [ ] crubadan............ Crubadan Corpus\n",
            "  [ ] dependency_treebank. Dependency Parsed Treebank\n",
            "  [ ] dolch............... Dolch Word List\n",
            "  [ ] europarl_raw........ Sample European Parliament Proceedings Parallel\n",
            "                           Corpus\n",
            "  [ ] floresta............ Portuguese Treebank\n",
            "  [ ] framenet_v15........ FrameNet 1.5\n",
            "  [ ] framenet_v17........ FrameNet 1.7\n",
            "  [ ] gazetteers.......... Gazeteer Lists\n",
            "  [ ] genesis............. Genesis Corpus\n",
            "  [ ] gutenberg........... Project Gutenberg Selections\n",
            "  [ ] ieer................ NIST IE-ER DATA SAMPLE\n",
            "  [ ] inaugural........... C-Span Inaugural Address Corpus\n",
            "  [ ] indian.............. Indian Language POS-Tagged Corpus\n",
            "  [ ] jeita............... JEITA Public Morphologically Tagged Corpus (in\n",
            "                           ChaSen format)\n",
            "  [ ] kimmo............... PC-KIMMO Data Files\n",
            "  [ ] knbc................ KNB Corpus (Annotated blog corpus)\n",
            "  [ ] large_grammars...... Large context-free and feature-based grammars\n",
            "                           for parser comparison\n",
            "  [ ] lin_thesaurus....... Lin's Dependency Thesaurus\n",
            "  [ ] mac_morpho.......... MAC-MORPHO: Brazilian Portuguese news text with\n",
            "                           part-of-speech tags\n",
            "  [ ] machado............. Machado de Assis -- Obra Completa\n",
            "  [ ] masc_tagged......... MASC Tagged Corpus\n",
            "  [ ] maxent_ne_chunker... ACE Named Entity Chunker (Maximum entropy)\n",
            "  [ ] maxent_treebank_pos_tagger Treebank Part of Speech Tagger (Maximum entropy)\n",
            "  [ ] moses_sample........ Moses Sample Models\n",
            "  [ ] movie_reviews....... Sentiment Polarity Dataset Version 2.0\n",
            "  [ ] mte_teip5........... MULTEXT-East 1984 annotated corpus 4.0\n",
            "  [ ] mwa_ppdb............ The monolingual word aligner (Sultan et al.\n",
            "                           2015) subset of the Paraphrase Database.\n",
            "  [ ] names............... Names Corpus, Version 1.3 (1994-03-29)\n",
            "  [ ] nombank.1.0......... NomBank Corpus 1.0\n",
            "  [ ] nonbreaking_prefixes Non-Breaking Prefixes (Moses Decoder)\n",
            "  [ ] nps_chat............ NPS Chat\n",
            "  [ ] omw................. Open Multilingual Wordnet\n",
            "  [ ] opinion_lexicon..... Opinion Lexicon\n",
            "  [ ] panlex_swadesh...... PanLex Swadesh Corpora\n",
            "  [ ] paradigms........... Paradigm Corpus\n",
            "  [ ] pe08................ Cross-Framework and Cross-Domain Parser\n",
            "                           Evaluation Shared Task\n",
            "  [ ] perluniprops........ perluniprops: Index of Unicode Version 7.0.0\n",
            "                           character properties in Perl\n",
            "  [ ] pil................. The Patient Information Leaflet (PIL) Corpus\n",
            "  [ ] pl196x.............. Polish language of the XX century sixties\n",
            "  [ ] porter_test......... Porter Stemmer Test Files\n",
            "  [ ] ppattach............ Prepositional Phrase Attachment Corpus\n",
            "  [ ] problem_reports..... Problem Report Corpus\n",
            "  [ ] product_reviews_1... Product Reviews (5 Products)\n",
            "  [ ] product_reviews_2... Product Reviews (9 Products)\n",
            "  [ ] propbank............ Proposition Bank Corpus 1.0\n",
            "  [ ] pros_cons........... Pros and Cons\n",
            "  [ ] ptb................. Penn Treebank\n",
            "  [ ] qc.................. Experimental Data for Question Classification\n",
            "  [ ] reuters............. The Reuters-21578 benchmark corpus, ApteMod\n",
            "                           version\n",
            "  [ ] rslp................ RSLP Stemmer (Removedor de Sufixos da Lingua\n",
            "                           Portuguesa)\n",
            "  [ ] rte................. PASCAL RTE Challenges 1, 2, and 3\n",
            "  [ ] sample_grammars..... Sample Grammars\n",
            "  [ ] semcor.............. SemCor 3.0\n",
            "  [ ] senseval............ SENSEVAL 2 Corpus: Sense Tagged Text\n",
            "  [ ] sentence_polarity... Sentence Polarity Dataset v1.0\n",
            "  [ ] sentiwordnet........ SentiWordNet\n",
            "  [ ] shakespeare......... Shakespeare XML Corpus Sample\n",
            "  [ ] sinica_treebank..... Sinica Treebank Corpus Sample\n",
            "  [ ] smultron............ SMULTRON Corpus Sample\n",
            "  [ ] snowball_data....... Snowball Data\n",
            "  [ ] spanish_grammars.... Grammars for Spanish\n",
            "  [ ] state_union......... C-Span State of the Union Address Corpus\n",
            "  [ ] subjectivity........ Subjectivity Dataset v1.0\n",
            "  [ ] swadesh............. Swadesh Wordlists\n",
            "  [ ] switchboard......... Switchboard Corpus Sample\n",
            "  [ ] tagsets............. Help on Tagsets\n",
            "  [ ] timit............... TIMIT Corpus Sample\n",
            "  [ ] toolbox............. Toolbox Sample Files\n",
            "  [ ] treebank............ Penn Treebank Sample\n",
            "  [ ] twitter_samples..... Twitter Samples\n",
            "  [ ] udhr2............... Universal Declaration of Human Rights Corpus\n",
            "                           (Unicode Version)\n",
            "  [ ] udhr................ Universal Declaration of Human Rights Corpus\n",
            "  [ ] unicode_samples..... Unicode Samples\n",
            "  [ ] universal_tagset.... Mappings to the Universal Part-of-Speech Tagset\n",
            "  [ ] universal_treebanks_v20 Universal Treebanks Version 2.0\n",
            "  [ ] vader_lexicon....... VADER Sentiment Lexicon\n",
            "  [ ] verbnet3............ VerbNet Lexicon, Version 3.3\n",
            "  [ ] verbnet............. VerbNet Lexicon, Version 2.1\n",
            "  [ ] webtext............. Web Text Corpus\n",
            "  [ ] wmt15_eval.......... Evaluation data from WMT15\n",
            "  [ ] word2vec_sample..... Word2Vec Sample\n",
            "  [ ] wordnet_ic.......... WordNet-InfoContent\n",
            "  [ ] words............... Word Lists\n",
            "  [ ] ycoe................ York-Toronto-Helsinki Parsed Corpus of Old\n",
            "                           English Prose\n",
            "\n",
            "Collections:\n",
            "  [P] all-corpora......... All the corpora\n",
            "  [P] all-nltk............ All packages available on nltk_data gh-pages\n",
            "                           branch\n",
            "  [P] all................. All packages\n",
            "  [P] book................ Everything used in the NLTK Book\n",
            "  [P] popular............. Popular packages\n",
            "  [ ] tests............... Packages for running tests\n",
            "  [ ] third-party......... Third-party data packages\n",
            "\n",
            "([*] marks installed packages; [P] marks partially installed collections)\n",
            "\n",
            "Download which package (l=list; x=cancel)?\n",
            "Packages:\n",
            "  [ ] abc................. Australian Broadcasting Commission 2006\n",
            "  [ ] alpino.............. Alpino Dutch Treebank\n",
            "  [ ] averaged_perceptron_tagger Averaged Perceptron Tagger\n",
            "  [ ] averaged_perceptron_tagger_ru Averaged Perceptron Tagger (Russian)\n",
            "  [ ] basque_grammars..... Grammars for Basque\n",
            "  [ ] biocreative_ppi..... BioCreAtIvE (Critical Assessment of Information\n",
            "                           Extraction Systems in Biology)\n",
            "  [ ] bllip_wsj_no_aux.... BLLIP Parser: WSJ Model\n",
            "  [ ] book_grammars....... Grammars from NLTK Book\n",
            "  [ ] brown............... Brown Corpus\n",
            "  [ ] brown_tei........... Brown Corpus (TEI XML Version)\n",
            "  [ ] cess_cat............ CESS-CAT Treebank\n",
            "  [ ] cess_esp............ CESS-ESP Treebank\n",
            "  [ ] chat80.............. Chat-80 Data Files\n",
            "  [ ] city_database....... City Database\n",
            "  [ ] cmudict............. The Carnegie Mellon Pronouncing Dictionary (0.6)\n",
            "  [ ] comparative_sentences Comparative Sentence Dataset\n",
            "  [ ] comtrans............ ComTrans Corpus Sample\n",
            "  [ ] conll2000........... CONLL 2000 Chunking Corpus\n",
            "  [ ] conll2002........... CONLL 2002 Named Entity Recognition Corpus\n",
            "  [ ] conll2007........... Dependency Treebanks from CoNLL 2007 (Catalan\n",
            "                           and Basque Subset)\n",
            "  [ ] crubadan............ Crubadan Corpus\n",
            "  [ ] dependency_treebank. Dependency Parsed Treebank\n",
            "  [ ] dolch............... Dolch Word List\n",
            "  [ ] europarl_raw........ Sample European Parliament Proceedings Parallel\n",
            "                           Corpus\n",
            "  [ ] floresta............ Portuguese Treebank\n",
            "  [ ] framenet_v15........ FrameNet 1.5\n",
            "  [ ] framenet_v17........ FrameNet 1.7\n",
            "  [ ] gazetteers.......... Gazeteer Lists\n",
            "  [ ] genesis............. Genesis Corpus\n",
            "  [ ] gutenberg........... Project Gutenberg Selections\n",
            "  [ ] ieer................ NIST IE-ER DATA SAMPLE\n",
            "  [ ] inaugural........... C-Span Inaugural Address Corpus\n",
            "  [ ] indian.............. Indian Language POS-Tagged Corpus\n",
            "  [ ] jeita............... JEITA Public Morphologically Tagged Corpus (in\n",
            "                           ChaSen format)\n",
            "  [ ] kimmo............... PC-KIMMO Data Files\n",
            "  [ ] knbc................ KNB Corpus (Annotated blog corpus)\n",
            "  [ ] large_grammars...... Large context-free and feature-based grammars\n",
            "                           for parser comparison\n",
            "  [ ] lin_thesaurus....... Lin's Dependency Thesaurus\n",
            "  [ ] mac_morpho.......... MAC-MORPHO: Brazilian Portuguese news text with\n",
            "                           part-of-speech tags\n",
            "  [ ] machado............. Machado de Assis -- Obra Completa\n",
            "  [ ] masc_tagged......... MASC Tagged Corpus\n",
            "  [ ] maxent_ne_chunker... ACE Named Entity Chunker (Maximum entropy)\n",
            "  [ ] maxent_treebank_pos_tagger Treebank Part of Speech Tagger (Maximum entropy)\n",
            "  [ ] moses_sample........ Moses Sample Models\n",
            "  [ ] movie_reviews....... Sentiment Polarity Dataset Version 2.0\n",
            "  [ ] mte_teip5........... MULTEXT-East 1984 annotated corpus 4.0\n",
            "  [ ] mwa_ppdb............ The monolingual word aligner (Sultan et al.\n",
            "                           2015) subset of the Paraphrase Database.\n",
            "  [ ] names............... Names Corpus, Version 1.3 (1994-03-29)\n",
            "  [ ] nombank.1.0......... NomBank Corpus 1.0\n",
            "  [ ] nonbreaking_prefixes Non-Breaking Prefixes (Moses Decoder)\n",
            "  [ ] nps_chat............ NPS Chat\n",
            "  [ ] omw................. Open Multilingual Wordnet\n",
            "  [ ] opinion_lexicon..... Opinion Lexicon\n",
            "  [ ] panlex_swadesh...... PanLex Swadesh Corpora\n",
            "  [ ] paradigms........... Paradigm Corpus\n",
            "  [ ] pe08................ Cross-Framework and Cross-Domain Parser\n",
            "                           Evaluation Shared Task\n",
            "  [ ] perluniprops........ perluniprops: Index of Unicode Version 7.0.0\n",
            "                           character properties in Perl\n",
            "  [ ] pil................. The Patient Information Leaflet (PIL) Corpus\n",
            "  [ ] pl196x.............. Polish language of the XX century sixties\n",
            "  [ ] porter_test......... Porter Stemmer Test Files\n",
            "  [ ] ppattach............ Prepositional Phrase Attachment Corpus\n",
            "  [ ] problem_reports..... Problem Report Corpus\n",
            "  [ ] product_reviews_1... Product Reviews (5 Products)\n",
            "  [ ] product_reviews_2... Product Reviews (9 Products)\n",
            "  [ ] propbank............ Proposition Bank Corpus 1.0\n",
            "  [ ] pros_cons........... Pros and Cons\n",
            "  [ ] ptb................. Penn Treebank\n",
            "  [ ] qc.................. Experimental Data for Question Classification\n",
            "  [ ] reuters............. The Reuters-21578 benchmark corpus, ApteMod\n",
            "                           version\n",
            "  [ ] rslp................ RSLP Stemmer (Removedor de Sufixos da Lingua\n",
            "                           Portuguesa)\n",
            "  [ ] rte................. PASCAL RTE Challenges 1, 2, and 3\n",
            "  [ ] sample_grammars..... Sample Grammars\n",
            "  [ ] semcor.............. SemCor 3.0\n",
            "  [ ] senseval............ SENSEVAL 2 Corpus: Sense Tagged Text\n",
            "  [ ] sentence_polarity... Sentence Polarity Dataset v1.0\n",
            "  [ ] sentiwordnet........ SentiWordNet\n",
            "  [ ] shakespeare......... Shakespeare XML Corpus Sample\n",
            "  [ ] sinica_treebank..... Sinica Treebank Corpus Sample\n",
            "  [ ] smultron............ SMULTRON Corpus Sample\n",
            "  [ ] snowball_data....... Snowball Data\n",
            "  [ ] spanish_grammars.... Grammars for Spanish\n",
            "  [ ] state_union......... C-Span State of the Union Address Corpus\n",
            "  [ ] subjectivity........ Subjectivity Dataset v1.0\n",
            "  [ ] swadesh............. Swadesh Wordlists\n",
            "  [ ] switchboard......... Switchboard Corpus Sample\n",
            "  [ ] tagsets............. Help on Tagsets\n",
            "  [ ] timit............... TIMIT Corpus Sample\n",
            "  [ ] toolbox............. Toolbox Sample Files\n",
            "  [ ] treebank............ Penn Treebank Sample\n",
            "  [ ] twitter_samples..... Twitter Samples\n",
            "  [ ] udhr2............... Universal Declaration of Human Rights Corpus\n",
            "                           (Unicode Version)\n",
            "  [ ] udhr................ Universal Declaration of Human Rights Corpus\n",
            "  [ ] unicode_samples..... Unicode Samples\n",
            "  [ ] universal_tagset.... Mappings to the Universal Part-of-Speech Tagset\n",
            "  [ ] universal_treebanks_v20 Universal Treebanks Version 2.0\n",
            "  [ ] vader_lexicon....... VADER Sentiment Lexicon\n",
            "  [ ] verbnet3............ VerbNet Lexicon, Version 3.3\n",
            "  [ ] verbnet............. VerbNet Lexicon, Version 2.1\n",
            "  [ ] webtext............. Web Text Corpus\n",
            "  [ ] wmt15_eval.......... Evaluation data from WMT15\n",
            "  [ ] word2vec_sample..... Word2Vec Sample\n",
            "  [ ] wordnet_ic.......... WordNet-InfoContent\n",
            "  [ ] words............... Word Lists\n",
            "  [ ] ycoe................ York-Toronto-Helsinki Parsed Corpus of Old\n",
            "                           English Prose\n",
            "\n",
            "Collections:\n",
            "  [P] all-corpora......... All the corpora\n",
            "  [P] all-nltk............ All packages available on nltk_data gh-pages\n",
            "                           branch\n",
            "  [P] all................. All packages\n",
            "  [P] book................ Everything used in the NLTK Book\n",
            "  [P] popular............. Popular packages\n",
            "  [ ] tests............... Packages for running tests\n",
            "  [ ] third-party......... Third-party data packages\n",
            "\n",
            "([*] marks installed packages; [P] marks partially installed collections)\n",
            "\n",
            "Download which package (l=list; x=cancel)?\n",
            "\n",
            "---------------------------------------------------------------------------\n",
            "    d) Download   l) List    u) Update   c) Config   h) Help   q) Quit\n",
            "---------------------------------------------------------------------------\n",
            "\n",
            "Download which package (l=list; x=cancel)?\n",
            "Packages:\n",
            "  [ ] abc................. Australian Broadcasting Commission 2006\n",
            "  [ ] alpino.............. Alpino Dutch Treebank\n",
            "  [ ] averaged_perceptron_tagger Averaged Perceptron Tagger\n",
            "  [ ] averaged_perceptron_tagger_ru Averaged Perceptron Tagger (Russian)\n",
            "  [ ] basque_grammars..... Grammars for Basque\n",
            "  [ ] biocreative_ppi..... BioCreAtIvE (Critical Assessment of Information\n",
            "                           Extraction Systems in Biology)\n",
            "  [ ] bllip_wsj_no_aux.... BLLIP Parser: WSJ Model\n",
            "  [ ] book_grammars....... Grammars from NLTK Book\n",
            "  [ ] brown............... Brown Corpus\n",
            "  [ ] brown_tei........... Brown Corpus (TEI XML Version)\n",
            "  [ ] cess_cat............ CESS-CAT Treebank\n",
            "  [ ] cess_esp............ CESS-ESP Treebank\n",
            "  [ ] chat80.............. Chat-80 Data Files\n",
            "  [ ] city_database....... City Database\n",
            "  [ ] cmudict............. The Carnegie Mellon Pronouncing Dictionary (0.6)\n",
            "  [ ] comparative_sentences Comparative Sentence Dataset\n",
            "  [ ] comtrans............ ComTrans Corpus Sample\n",
            "  [ ] conll2000........... CONLL 2000 Chunking Corpus\n",
            "  [ ] conll2002........... CONLL 2002 Named Entity Recognition Corpus\n",
            "  [ ] conll2007........... Dependency Treebanks from CoNLL 2007 (Catalan\n",
            "                           and Basque Subset)\n",
            "  [ ] crubadan............ Crubadan Corpus\n",
            "  [ ] dependency_treebank. Dependency Parsed Treebank\n",
            "  [ ] dolch............... Dolch Word List\n",
            "  [ ] europarl_raw........ Sample European Parliament Proceedings Parallel\n",
            "                           Corpus\n",
            "  [ ] floresta............ Portuguese Treebank\n",
            "  [ ] framenet_v15........ FrameNet 1.5\n",
            "  [ ] framenet_v17........ FrameNet 1.7\n",
            "  [ ] gazetteers.......... Gazeteer Lists\n",
            "  [ ] genesis............. Genesis Corpus\n",
            "  [ ] gutenberg........... Project Gutenberg Selections\n",
            "  [ ] ieer................ NIST IE-ER DATA SAMPLE\n",
            "  [ ] inaugural........... C-Span Inaugural Address Corpus\n",
            "  [ ] indian.............. Indian Language POS-Tagged Corpus\n",
            "  [ ] jeita............... JEITA Public Morphologically Tagged Corpus (in\n",
            "                           ChaSen format)\n",
            "  [ ] kimmo............... PC-KIMMO Data Files\n",
            "  [ ] knbc................ KNB Corpus (Annotated blog corpus)\n",
            "  [ ] large_grammars...... Large context-free and feature-based grammars\n",
            "                           for parser comparison\n",
            "  [ ] lin_thesaurus....... Lin's Dependency Thesaurus\n",
            "  [ ] mac_morpho.......... MAC-MORPHO: Brazilian Portuguese news text with\n",
            "                           part-of-speech tags\n",
            "  [ ] machado............. Machado de Assis -- Obra Completa\n",
            "  [ ] masc_tagged......... MASC Tagged Corpus\n",
            "  [ ] maxent_ne_chunker... ACE Named Entity Chunker (Maximum entropy)\n",
            "  [ ] maxent_treebank_pos_tagger Treebank Part of Speech Tagger (Maximum entropy)\n",
            "  [ ] moses_sample........ Moses Sample Models\n",
            "  [ ] movie_reviews....... Sentiment Polarity Dataset Version 2.0\n",
            "  [ ] mte_teip5........... MULTEXT-East 1984 annotated corpus 4.0\n",
            "  [ ] mwa_ppdb............ The monolingual word aligner (Sultan et al.\n",
            "                           2015) subset of the Paraphrase Database.\n",
            "  [ ] names............... Names Corpus, Version 1.3 (1994-03-29)\n",
            "  [ ] nombank.1.0......... NomBank Corpus 1.0\n",
            "  [ ] nonbreaking_prefixes Non-Breaking Prefixes (Moses Decoder)\n",
            "  [ ] nps_chat............ NPS Chat\n",
            "  [ ] omw................. Open Multilingual Wordnet\n",
            "  [ ] opinion_lexicon..... Opinion Lexicon\n",
            "  [ ] panlex_swadesh...... PanLex Swadesh Corpora\n",
            "  [ ] paradigms........... Paradigm Corpus\n",
            "  [ ] pe08................ Cross-Framework and Cross-Domain Parser\n",
            "                           Evaluation Shared Task\n",
            "  [ ] perluniprops........ perluniprops: Index of Unicode Version 7.0.0\n",
            "                           character properties in Perl\n",
            "  [ ] pil................. The Patient Information Leaflet (PIL) Corpus\n",
            "  [ ] pl196x.............. Polish language of the XX century sixties\n",
            "  [ ] porter_test......... Porter Stemmer Test Files\n",
            "  [ ] ppattach............ Prepositional Phrase Attachment Corpus\n",
            "  [ ] problem_reports..... Problem Report Corpus\n",
            "  [ ] product_reviews_1... Product Reviews (5 Products)\n",
            "  [ ] product_reviews_2... Product Reviews (9 Products)\n",
            "  [ ] propbank............ Proposition Bank Corpus 1.0\n",
            "  [ ] pros_cons........... Pros and Cons\n",
            "  [ ] ptb................. Penn Treebank\n",
            "  [ ] qc.................. Experimental Data for Question Classification\n",
            "  [ ] reuters............. The Reuters-21578 benchmark corpus, ApteMod\n",
            "                           version\n",
            "  [ ] rslp................ RSLP Stemmer (Removedor de Sufixos da Lingua\n",
            "                           Portuguesa)\n",
            "  [ ] rte................. PASCAL RTE Challenges 1, 2, and 3\n",
            "  [ ] sample_grammars..... Sample Grammars\n",
            "  [ ] semcor.............. SemCor 3.0\n",
            "  [ ] senseval............ SENSEVAL 2 Corpus: Sense Tagged Text\n",
            "  [ ] sentence_polarity... Sentence Polarity Dataset v1.0\n",
            "  [ ] sentiwordnet........ SentiWordNet\n",
            "  [ ] shakespeare......... Shakespeare XML Corpus Sample\n",
            "  [ ] sinica_treebank..... Sinica Treebank Corpus Sample\n",
            "  [ ] smultron............ SMULTRON Corpus Sample\n",
            "  [ ] snowball_data....... Snowball Data\n",
            "  [ ] spanish_grammars.... Grammars for Spanish\n",
            "  [ ] state_union......... C-Span State of the Union Address Corpus\n",
            "  [ ] subjectivity........ Subjectivity Dataset v1.0\n",
            "  [ ] swadesh............. Swadesh Wordlists\n",
            "  [ ] switchboard......... Switchboard Corpus Sample\n",
            "  [ ] tagsets............. Help on Tagsets\n",
            "  [ ] timit............... TIMIT Corpus Sample\n",
            "  [ ] toolbox............. Toolbox Sample Files\n",
            "  [ ] treebank............ Penn Treebank Sample\n",
            "  [ ] twitter_samples..... Twitter Samples\n",
            "  [ ] udhr2............... Universal Declaration of Human Rights Corpus\n",
            "                           (Unicode Version)\n",
            "  [ ] udhr................ Universal Declaration of Human Rights Corpus\n",
            "  [ ] unicode_samples..... Unicode Samples\n",
            "  [ ] universal_tagset.... Mappings to the Universal Part-of-Speech Tagset\n",
            "Hit Enter to continue: \n",
            "  [ ] universal_treebanks_v20 Universal Treebanks Version 2.0\n",
            "  [ ] vader_lexicon....... VADER Sentiment Lexicon\n",
            "  [ ] verbnet3............ VerbNet Lexicon, Version 3.3\n",
            "  [ ] verbnet............. VerbNet Lexicon, Version 2.1\n",
            "  [ ] webtext............. Web Text Corpus\n",
            "  [ ] wmt15_eval.......... Evaluation data from WMT15\n",
            "  [ ] word2vec_sample..... Word2Vec Sample\n",
            "  [ ] wordnet_ic.......... WordNet-InfoContent\n",
            "  [ ] words............... Word Lists\n",
            "  [ ] ycoe................ York-Toronto-Helsinki Parsed Corpus of Old\n",
            "                           English Prose\n",
            "\n",
            "Collections:\n",
            "  [P] all-corpora......... All the corpora\n",
            "  [P] all-nltk............ All packages available on nltk_data gh-pages\n",
            "                           branch\n",
            "  [P] all................. All packages\n",
            "  [P] book................ Everything used in the NLTK Book\n",
            "  [P] popular............. Popular packages\n",
            "  [ ] tests............... Packages for running tests\n",
            "  [ ] third-party......... Third-party data packages\n",
            "\n",
            "([*] marks installed packages; [P] marks partially installed collections)\n",
            "\n",
            "Download which package (l=list; x=cancel)?\n"
          ],
          "name": "stdout"
        }
      ]
    },
    {
      "cell_type": "code",
      "metadata": {
        "id": "7FlD6YrIgwYh"
      },
      "source": [
        "#using wordnet lemmatizer to get lemmas from text files \r\n",
        "from nltk.stem import WordNetLemmatizer\r\n",
        "def lemmaTF_IDF(textwords):\r\n",
        "    lemmatizer = WordNetLemmatizer() \r\n",
        "    lemma_text = textwords.rdd.map(lambda x: (x.doc,[lemmatizer.lemmatize(t, pos='v') for t in tokenize(x.text)]))"
      ],
      "execution_count": 10,
      "outputs": []
    },
    {
      "cell_type": "code",
      "metadata": {
        "id": "Wxig1lLA4i6N"
      },
      "source": [
        "#creating sparksession\r\n",
        "spark4 = SparkSession.builder.appName(\"TFIDF lemma\").getOrCreate()\r\n",
        "files = [\"text1.txt\", \"text/text2.txt\", \"text/text3.txt\", \"text/text4.txt\", \"text/text5.txt\"]"
      ],
      "execution_count": 11,
      "outputs": []
    },
    {
      "cell_type": "code",
      "metadata": {
        "id": "ALIJAgtO4Xnr"
      },
      "source": [
        "#creating df \r\n",
        "from pyspark import SparkContext\r\n",
        "sc = SparkContext.getOrCreate();\r\n",
        "textwords = sc.wholeTextFiles(\"text*\").toDF([\"doc\",\"text\"])"
      ],
      "execution_count": 12,
      "outputs": []
    },
    {
      "cell_type": "code",
      "metadata": {
        "id": "rjVNI6Vi3r1T"
      },
      "source": [
        "import re\r\n",
        "import numpy as np\r\n",
        "from __future__ import division\r\n",
        "\r\n",
        "def tokenize(s):\r\n",
        "  return re.split(\"\\\\W+\", s.lower())\r\n",
        "\r\n",
        "# Function to sort the list of tuples by its second item \r\n",
        "def Sort_Tuple(tup):  \r\n",
        "    # getting length of list of tuples \r\n",
        "    lst = len(tup)  \r\n",
        "    for i in range(0, lst):  \r\n",
        "        for j in range(0, lst-i-1):  \r\n",
        "            if (tup[j][1] > tup[j + 1][1]):  \r\n",
        "                temp = tup[j]  \r\n",
        "                tup[j]= tup[j + 1]  \r\n",
        "                tup[j + 1]= temp  \r\n",
        "    return tup \r\n",
        "\r\n",
        "def tf_idf(N, tf, df):\r\n",
        "    result = []\r\n",
        "    for key, value in tf.items():\r\n",
        "        doc = key[0]\r\n",
        "        term = key[1]\r\n",
        "        x = df[term]\r\n",
        "        if (x>0):\r\n",
        "          tf_idf = float(value)*np.log(N/x)\r\n",
        "        \r\n",
        "        result.append((term, tf_idf))\r\n",
        "    return result"
      ],
      "execution_count": 13,
      "outputs": []
    },
    {
      "cell_type": "code",
      "metadata": {
        "id": "izVBc39w37xe",
        "colab": {
          "base_uri": "https://localhost:8080/"
        },
        "outputId": "15928860-ce20-41c5-8c36-66df0026d27d"
      },
      "source": [
        "def tokenTF_IDF(textwords):\r\n",
        "    tokenized_text = textwords.rdd.map(lambda x: (x.doc, tokenize(x.text)) )\r\n",
        "\r\n",
        "    term_frequency = tokenized_text.flatMapValues(lambda x: x).countByValue()\r\n",
        "\r\n",
        "    document_frequency = tokenized_text.flatMapValues(lambda x: x) \\\r\n",
        "                        .map(lambda x : (x[1],1))\\\r\n",
        "                        .reduceByKey(lambda a, b: a + b)\r\n",
        "    tmp = {}\r\n",
        "    for x in document_frequency.collect():\r\n",
        "        tmp[x[0]] = x[1]\r\n",
        "\r\n",
        "    number_of_docs = 5\r\n",
        "    tf_idf_output = tf_idf(number_of_docs, term_frequency, tmp)\r\n",
        "    # tf_idf_output\r\n",
        "    return Sort_Tuple(tf_idf_output)[-10:]\r\n",
        "tokenTF_IDF(textwords)"
      ],
      "execution_count": 14,
      "outputs": [
        {
          "output_type": "execute_result",
          "data": {
            "text/plain": [
              "[('u', 1.8325814637483102),\n",
              " ('state', 1.8325814637483102),\n",
              " ('alliancechicago', 1.8325814637483102),\n",
              " ('community', 1.8325814637483102),\n",
              " ('health', 1.8325814637483102),\n",
              " ('research', 1.8325814637483102),\n",
              " ('institutional', 1.8325814637483102),\n",
              " ('board', 1.8325814637483102),\n",
              " ('irb', 1.8325814637483102),\n",
              " ('european', 1.8325814637483102)]"
            ]
          },
          "metadata": {
            "tags": []
          },
          "execution_count": 14
        }
      ]
    },
    {
      "cell_type": "code",
      "metadata": {
        "id": "XTQkd0NJ2p7U",
        "colab": {
          "base_uri": "https://localhost:8080/"
        },
        "outputId": "b1b862ef-04b2-4ebf-d5a7-bdeae3109732"
      },
      "source": [
        "#Finding out the top10 TF-IDF words for the lemmatized input\r\n",
        "#getting the lemmas of the words\r\n",
        "import nltk\r\n",
        "nltk.download('wordnet')\r\n",
        "from nltk.stem import WordNetLemmatizer\r\n",
        "def lemmaTF_IDF(tech_text):\r\n",
        "    lemmatizer = WordNetLemmatizer() \r\n",
        "    lemma_text = textwords.rdd.map(lambda x: (x.doc,[lemmatizer.lemmatize(t, pos='v') for t in tokenize(x.text)]))\r\n",
        "\r\n",
        "    # calculating TF of lemmatized words\r\n",
        "    term_frequency = lemma_text.flatMapValues(lambda x: x).countByValue()\r\n",
        "\r\n",
        "    # calculating DF of lemmatized tf\r\n",
        "    document_frequency = lemma_text.flatMapValues(lambda x: x) \\\r\n",
        "                        .map(lambda x : (x[1],1))\\\r\n",
        "                        .reduceByKey(lambda a, b: a + b)\r\n",
        "    tmp = {}\r\n",
        "    for x in document_frequency.collect():\r\n",
        "        tmp[x[0]] = x[1]\r\n",
        "\r\n",
        "    # showing the top 10 TFIDF words for the lemmatized result  \r\n",
        "    number_of_docs = 5\r\n",
        "    tf_idf_output = tf_idf(number_of_docs, term_frequency, tmp)\r\n",
        "\r\n",
        "    return Sort_Tuple(tf_idf_output)[-10:]\r\n",
        "lemmaTF_IDF(textwords)"
      ],
      "execution_count": 15,
      "outputs": [
        {
          "output_type": "stream",
          "text": [
            "[nltk_data] Downloading package wordnet to /root/nltk_data...\n",
            "[nltk_data]   Package wordnet is already up-to-date!\n"
          ],
          "name": "stdout"
        },
        {
          "output_type": "execute_result",
          "data": {
            "text/plain": [
              "[('u', 1.8325814637483102),\n",
              " ('state', 1.8325814637483102),\n",
              " ('alliancechicago', 1.8325814637483102),\n",
              " ('community', 1.8325814637483102),\n",
              " ('health', 1.8325814637483102),\n",
              " ('research', 1.8325814637483102),\n",
              " ('process', 1.8325814637483102),\n",
              " ('institutional', 1.8325814637483102),\n",
              " ('irb', 1.8325814637483102),\n",
              " ('european', 1.8325814637483102)]"
            ]
          },
          "metadata": {
            "tags": []
          },
          "execution_count": 15
        }
      ]
    },
    {
      "cell_type": "markdown",
      "metadata": {
        "id": "7zZ28R2vahG2"
      },
      "source": [
        "**1c) Find out the top10TF-IDF words for the n-gram based input.**"
      ]
    },
    {
      "cell_type": "code",
      "metadata": {
        "id": "dOYgVmUNaf1b"
      },
      "source": [
        "# Create the Spark session\r\n",
        "spark2 = SparkSession.builder.appName(\"Ngrams\").getOrCreate()\r\n",
        "# Create the dataframe with five text files\r\n",
        "txt = spark2.read.text('text*.txt')"
      ],
      "execution_count": 16,
      "outputs": []
    },
    {
      "cell_type": "code",
      "metadata": {
        "id": "QwRsGnEValXM"
      },
      "source": [
        "# perfoming tokenization on the textfiles\r\n",
        "tokenizer = Tokenizer(inputCol=\"value\", outputCol=\"words\")\r\n",
        "wordsData = tokenizer.transform(txt)"
      ],
      "execution_count": 17,
      "outputs": []
    },
    {
      "cell_type": "code",
      "metadata": {
        "id": "K_hxXiHma_9y"
      },
      "source": [
        "\r\n",
        "# Here i am Creating n-grams dataframe and i choose n=5\r\n",
        "ngram = NGram(n=5, inputCol=\"words\", outputCol=\"ngrams\")\r\n",
        "ngramDF = ngram.transform(wordsData)"
      ],
      "execution_count": 18,
      "outputs": []
    },
    {
      "cell_type": "code",
      "metadata": {
        "id": "FdswkVK7bIny"
      },
      "source": [
        "# calculating TF on ngram texts\r\n",
        "hashingTF = HashingTF(inputCol=\"words\", outputCol=\"rawFeatures\", numFeatures=10)\r\n",
        "featurizedData = hashingTF.transform(ngramDF)"
      ],
      "execution_count": 19,
      "outputs": []
    },
    {
      "cell_type": "code",
      "metadata": {
        "id": "XrPS11HCbIzb"
      },
      "source": [
        "# Calculate the inverse document frequency\r\n",
        "idf = IDF(inputCol=\"rawFeatures\", outputCol=\"features\")\r\n",
        "idfModel = idf.fit(featurizedData)\r\n",
        "rescaledData = idfModel.transform(featurizedData)"
      ],
      "execution_count": 20,
      "outputs": []
    },
    {
      "cell_type": "code",
      "metadata": {
        "id": "tz1B86OvbR0s",
        "colab": {
          "base_uri": "https://localhost:8080/"
        },
        "outputId": "12df4013-02ad-4074-c19b-ecd1098a85d4"
      },
      "source": [
        "# Displaying  the results of the top 10 TFIDF after applying ngram for n=5\r\n",
        "rescaledData.select(\"features\").show(10, truncate=False)"
      ],
      "execution_count": 21,
      "outputs": [
        {
          "output_type": "stream",
          "text": [
            "+-----------------------------------------------------------------------------------------------------------------------------------------------------------------------------------------------------------+\n",
            "|features                                                                                                                                                                                                   |\n",
            "+-----------------------------------------------------------------------------------------------------------------------------------------------------------------------------------------------------------+\n",
            "|(10,[0,1,2,4,5,6,7,8,9],[0.7870927934024732,0.7870927934024732,0.0,0.7870927934024732,0.5247285289349821,0.36772478012531734,0.26236426446749106,0.5247285289349821,0.7870927934024732])                   |\n",
            "|(10,[2],[0.0])                                                                                                                                                                                             |\n",
            "|(10,[0,1,2,3,4,5,6,7,8,9],[0.7870927934024732,1.3118213223374553,0.0,2.206348680751904,0.5247285289349821,1.3118213223374553,1.4708991205012694,2.3612783802074198,1.5741855868049464,1.3118213223374553]) |\n",
            "|(10,[2],[0.0])                                                                                                                                                                                             |\n",
            "|(10,[0,1,2,3,4,5,6,7,8,9],[0.7870927934024732,1.5741855868049464,0.0,0.7354495602506347,1.3118213223374553,1.5741855868049464,1.103174340375952,1.5741855868049464,1.3118213223374553,1.0494570578699642]) |\n",
            "|(10,[0,1,2,3,4,5,6,7,8,9],[2.8860069091424014,4.460192495947348,0.0,3.309523021127856,1.8365498512724374,5.247285289349821,3.6772478012531735,7.34619940508975,3.1483711736098927,2.8860069091424014])     |\n",
            "|(10,[0,1,2,3,4,5,6,7,8,9],[1.0494570578699642,2.3612783802074198,0.0,1.4708991205012694,1.8365498512724374,2.6236426446749106,1.103174340375952,1.3118213223374553,0.26236426446749106,1.0494570578699642])|\n",
            "|(10,[2],[0.0])                                                                                                                                                                                             |\n",
            "|(10,[0,1,2,3,4,5,6,7,8,9],[1.3118213223374553,1.3118213223374553,0.0,2.5740734608772216,0.7870927934024732,2.0989141157399285,1.8386239006265868,2.0989141157399285,1.8365498512724374,2.3612783802074198])|\n",
            "|(10,[0,1,2,3,4,5,6,7,8,9],[3.410735438077384,2.3612783802074198,0.0,3.309523021127856,1.0494570578699642,3.410735438077384,3.309523021127856,3.1483711736098927,1.5741855868049464,1.0494570578699642])    |\n",
            "+-----------------------------------------------------------------------------------------------------------------------------------------------------------------------------------------------------------+\n",
            "only showing top 10 rows\n",
            "\n"
          ],
          "name": "stdout"
        }
      ]
    },
    {
      "cell_type": "markdown",
      "metadata": {
        "id": "PQPbk6yHaPHk"
      },
      "source": [
        "**Write a simple spark program to read a dataset and find the W2V similar words (words with higher cosine similarity) for the Top10 TF-IDF Words**"
      ]
    },
    {
      "cell_type": "code",
      "metadata": {
        "id": "e2L34FKLeN2i"
      },
      "source": [
        "#importing libraries\r\n",
        "from __future__ import print_function\r\n",
        "from pyspark import SparkContext\r\n",
        "from pyspark.mllib.feature import HashingTF, IDF"
      ],
      "execution_count": 22,
      "outputs": []
    },
    {
      "cell_type": "code",
      "metadata": {
        "id": "1j4oyNgceX8_"
      },
      "source": [
        "# Importing text file \r\n",
        "sc = SparkContext.getOrCreate()\r\n",
        "files = sc.textFile(\"/content/text*.txt\").map(lambda line: line.split(\" \"))"
      ],
      "execution_count": 23,
      "outputs": []
    },
    {
      "cell_type": "code",
      "metadata": {
        "id": "qw0aBwrXey89",
        "colab": {
          "base_uri": "https://localhost:8080/"
        },
        "outputId": "d1222710-9ae0-4200-b8c4-aa55695d4924"
      },
      "source": [
        "# This code will calculate the TFIDF without using NLP\r\n",
        "hashingTF = HashingTF(numFeatures=10)\r\n",
        "tf = hashingTF.transform(files)\r\n",
        "\r\n",
        "tf.cache()\r\n",
        "idf = IDF().fit(tf)\r\n",
        "tfidf = idf.transform(tf)\r\n",
        "print(\"TFIDF without NLP:\")\r\n",
        "for each in tfidf.collect():\r\n",
        "    print(each)\r\n",
        "sc.stop()"
      ],
      "execution_count": 24,
      "outputs": [
        {
          "output_type": "stream",
          "text": [
            "TFIDF without NLP:\n",
            "(10,[0,1,2,4,5,6,7,8,9],[0.0,0.5247285289349821,0.5247285289349821,0.26236426446749106,0.26236426446749106,0.5247285289349821,1.0494570578699642,0.5247285289349821,0.7870927934024732])\n",
            "(10,[0],[0.0])\n",
            "(10,[0,1,2,3,4,5,6,7,8,9],[0.0,1.0494570578699642,1.8365498512724374,0.36772478012531734,0.26236426446749106,1.3118213223374553,1.3118213223374553,1.5741855868049464,1.5741855868049464,0.7870927934024732])\n",
            "(10,[0],[0.0])\n",
            "(10,[0,1,2,3,4,5,6,7,8,9],[0.0,0.7870927934024732,1.3118213223374553,1.103174340375952,0.5247285289349821,2.0989141157399285,2.0989141157399285,1.3118213223374553,0.7870927934024732,0.5247285289349821])\n",
            "(10,[0,1,2,3,4,5,6,7,8,9],[0.0,1.0494570578699642,0.7870927934024732,1.103174340375952,2.0989141157399285,1.3118213223374553,0.7870927934024732,2.0989141157399285,1.3118213223374553,2.6236426446749106])\n",
            "(10,[0,1,2,3,4,5,6,7,8,9],[0.0,7.34619940508975,3.1483711736098927,6.619046042255712,2.0989141157399285,2.8860069091424014,2.8860069091424014,4.460192495947348,2.6236426446749106,1.8365498512724374])\n",
            "(10,[0,1,2,3,4,5,6,7,8,9],[0.0,1.5741855868049464,0.5247285289349821,1.8386239006265868,0.5247285289349821,0.7870927934024732,1.3118213223374553,2.8860069091424014,1.3118213223374553,1.5741855868049464])\n",
            "(10,[0],[0.0])\n",
            "(10,[0,1,2,3,4,5,6,7,8,9],[0.0,2.3612783802074198,1.3118213223374553,1.8386239006265868,1.3118213223374553,2.0989141157399285,1.3118213223374553,1.5741855868049464,1.8365498512724374,1.5741855868049464])\n",
            "(10,[0,1,2,3,4,5,6,7,8,9],[0.0,1.5741855868049464,1.5741855868049464,3.6772478012531735,1.3118213223374553,0.7870927934024732,1.3118213223374553,4.460192495947348,2.0989141157399285,4.197828231479857])\n",
            "(10,[0,1,2,3,4,5,6,7,8,9],[0.0,1.0494570578699642,0.7870927934024732,1.103174340375952,0.5247285289349821,0.26236426446749106,1.5741855868049464,1.3118213223374553,0.5247285289349821,1.3118213223374553])\n"
          ],
          "name": "stdout"
        }
      ]
    },
    {
      "cell_type": "markdown",
      "metadata": {
        "id": "jWn5fPsfgPV9"
      },
      "source": [
        "**TRY WITH LEMMATIZATION**"
      ]
    },
    {
      "cell_type": "code",
      "metadata": {
        "id": "nxLxxPTt87yd",
        "colab": {
          "base_uri": "https://localhost:8080/"
        },
        "outputId": "bff1bdb7-e3aa-41b7-d57c-1f7ddc04914f"
      },
      "source": [
        "#IMPORTING LIBRARIES AND SINCE WE HAVE TO PERFORM LEMMATIZATION, WE ARE DOWNLOADING AND IMPORTING NLTK AS WELL\n",
        "from __future__ import print_function\n",
        "\n",
        "import nltk\n",
        "nltk.download('punkt')\n",
        "from pyspark import SparkContext\n",
        "from pyspark.mllib.feature import HashingTF, IDF\n",
        "from nltk.stem import WordNetLemmatizer\n",
        "#creating df and importing text file\n",
        "sc = SparkContext.getOrCreate()\n",
        "files = sc.textFile(\"/content/text*.txt\").map(lambda line: line.split(\" \"))\n",
        "\n",
        "# PERFORMING LEMMATIZATION ON TEXT FILE\n",
        "\n",
        "lemmatizer = WordNetLemmatizer()\n",
        "\n",
        "word_list = list(map(' '.join, files.collect()))\n",
        "word_list1 = ''\n",
        "for i in word_list:\n",
        "    word_list1 = word_list1 + ' ' + i\n",
        "word_list2 = nltk.word_tokenize(word_list1)\n",
        "lemmatized_document = ' '.join([lemmatizer.lemmatize(w) for w in word_list2])\n",
        "print(lemmatized_document)\n",
        "\n",
        "# i will store my lemmatized text document in file named \"text6.txt\"\n",
        "\n",
        "f = open(\"text6.txt\", \"w+\")\n",
        "f.write('' + lemmatized_document)\n",
        "f.close()\n",
        "\n",
        "document1 = sc.textFile(\"/content/text*.txt\").map(lambda line: line.split(\" \"))\n",
        "\n",
        "# Calculting TFIDF on lemmatized words\n",
        "\n",
        "hashingTF = HashingTF(numFeatures=20)\n",
        "tf = hashingTF.transform(document1)\n",
        "tf.cache()\n",
        "idf = IDF().fit(tf)\n",
        "tfidf = idf.transform(tf)\n",
        "\n",
        "print(\"TFIDF with Lemmatization:\")\n",
        "for each in tfidf.collect():\n",
        "    print(each)\n",
        "sc.stop()"
      ],
      "execution_count": 25,
      "outputs": [
        {
          "output_type": "stream",
          "text": [
            "[nltk_data] Downloading package punkt to /root/nltk_data...\n",
            "[nltk_data]   Package punkt is already up-to-date!\n",
            "Kobach ’ s law blocked the registration of more than 35,000 eligible Kansas voter and dissuaded countless others from attempting to register . The law wa necessary , Kobach argued , because the handful of known voter fraud case were the “ tip of the iceberg. ” When he failed in court to provide evidence supporting the claim , U.S. District Court Judge Julie Robinson said the iceberg wa “ only an icicle ” and ruled the law unconstitutional . Kansas Attorney General Derek Schmidt and Secretary of State Scott Schwab picked up the baton when Kobach left office following his failed attempt to become governor . An appeal court again rejected the state ’ s argument in support of the law , and the U.S. Supreme Court AllianceChicago community health center have their own unique research review process and may include formal Institutional Review Board ( IRB ) review and/or in-person presentation to community review board . We help our collaborating researcher navigate the research review process by serving a an administrative liaison . AllianceChicago ’ s IRB of Record is the Chicago Department of Public Health Institutional Review Board . Even during the Cold War , West Germany defied three American president – Nixon , Carter , and Reagan – by bartering steel pipe for Soviet energy . But what might have made economic sense during the global oil shock of the 1970s now reflects only Bismarck ’ s admonition : Don ’ t rile the Russians . Today , however , Merkel is acting on a new stage , and not only because of oversupply and dwindling demand a the industrial world shift to solar , wind , and higher efficiency . Suddenly , Merkel is “ home alone . ” It is not just the US , Britain , and nervous East Europeans who want to reduce Nord Stream 2 to scrap . Even the French are turning against the deal . Even during the Cold War , West Germany defied three American president – Nixon , Carter , and Reagan – by bartering steel pipe for Soviet energy . But what might have made economic sense during the global oil shock of the 1970s now reflects only Bismarck ’ s admonition : Don ’ t rile the Russians . Today , however , Merkel is acting on a new stage , and not only because of oversupply and dwindling demand a the industrial world shift to solar , wind , and higher efficiency . Suddenly , Merkel is “ home alone. ” It is not just the US , Britain , and nervous East Europeans who want to reduce Nord Stream 2 to scrap . Even the French are turning against the deal . Draghi ’ s ascension to the European stage alongside Macron and Merkel also implies closer EU-US relation . US President Joe Biden could not find a better ally in Europe . Italy ’ s new government , Draghi vowed , will be “ strongly pro-European and Atlanticist , in line with Italy ’ s historical anchors. ” This mark a break with the foreign policy of Giuseppe Conte , the previous prime minister , who had aligned Italy more closely with China . Draghi is giving the transatlantic alliance a chance to recover after four year of Donald Trump ’ s strategic recklessness . Mark Johnson , an adjunct professor at the University of Kansas School of Law who represented a KU student in a joined case , said the appeal probably account for 25 % of the total cost of attorney fee and expense .\n",
            "TFIDF with Lemmatization:\n",
            "(20,[0,1,2,5,6,7,9,10,12,14,16,17,18,19],[0.0,0.5247285289349821,0.26236426446749106,0.26236426446749106,0.26236426446749106,1.8571176252186705,0.7354495602506347,0.7354495602506347,0.36772478012531734,0.4855078157817008,0.26236426446749106,0.26236426446749106,0.5247285289349821,0.26236426446749106])\n",
            "(20,[0],[0.0])\n",
            "(20,[0,1,2,4,5,6,8,10,11,12,13,15,16,17,18,19],[0.0,0.26236426446749106,0.26236426446749106,0.36772478012531734,0.7870927934024732,0.5247285289349821,0.6190392084062235,1.8386239006265868,1.4565234473451025,2.206348680751904,0.36772478012531734,1.238078416812447,0.7870927934024732,1.5741855868049464,1.3118213223374553,0.7870927934024732])\n",
            "(20,[0],[0.0])\n",
            "(20,[0,1,2,4,5,6,9,10,12,13,14,15,16,17,18,19],[0.0,0.7870927934024732,0.26236426446749106,0.36772478012531734,1.0494570578699642,0.7870927934024732,0.36772478012531734,0.7354495602506347,1.4708991205012694,1.103174340375952,0.4855078157817008,2.476156833624894,1.3118213223374553,1.3118213223374553,0.7870927934024732,0.26236426446749106])\n",
            "(20,[0,1,2,3,4,5,6,7,8,9,10,11,12,13,14,15,16,17,18,19],[0.0,0.5247285289349821,0.5247285289349821,1.238078416812447,1.103174340375952,0.7870927934024732,0.5247285289349821,2.476156833624894,2.476156833624894,0.7354495602506347,0.7354495602506347,0.9710156315634016,0.36772478012531734,0.36772478012531734,2.427539078908504,1.238078416812447,0.26236426446749106,1.0494570578699642,0.26236426446749106,2.0989141157399285])\n",
            "(20,[0,1,2,3,4,5,6,7,8,9,10,11,12,13,14,15,16,17,18,19],[0.0,9.445113520829679,10.494570578699642,25.380607544655163,9.928569063383568,8.395656462959714,6.296742347219785,12.999823376530694,17.333097835374257,7.722220382631664,9.928569063383568,25.731914236430143,9.193119503132934,7.354495602506347,7.768125052507213,9.285588126093353,6.821470876154768,14.6923988101795,4.197828231479857,10.232206314232151])\n",
            "(20,[0,1,2,3,4,5,6,7,8,9,11,13,16,17,18,19],[0.0,1.3118213223374553,0.5247285289349821,0.6190392084062235,0.7354495602506347,0.7870927934024732,0.5247285289349821,2.476156833624894,1.8571176252186705,1.4708991205012694,0.4855078157817008,1.4708991205012694,0.7870927934024732,1.8365498512724374,0.5247285289349821,0.5247285289349821])\n",
            "(20,[0],[0.0])\n",
            "(20,[0,1,2,3,4,5,6,8,9,10,11,12,13,14,15,16,17,18,19],[0.0,1.8365498512724374,0.5247285289349821,2.476156833624894,0.7354495602506347,1.3118213223374553,0.5247285289349821,2.476156833624894,1.103174340375952,1.103174340375952,0.9710156315634016,1.103174340375952,0.36772478012531734,1.4565234473451025,1.8571176252186705,0.7870927934024732,1.5741855868049464,0.7870927934024732,0.7870927934024732])\n",
            "(20,[0,1,2,3,4,5,6,7,8,9,10,11,12,13,14,15,16,17,18,19],[0.0,0.5247285289349821,0.7870927934024732,3.0951960420311178,0.36772478012531734,0.5247285289349821,0.5247285289349821,3.714235250437341,2.476156833624894,2.5740734608772216,1.4708991205012694,1.9420312631268033,1.103174340375952,1.8386239006265868,1.9420312631268033,0.6190392084062235,0.7870927934024732,2.8860069091424014,1.0494570578699642,2.3612783802074198])\n",
            "(20,[0,1,2,3,4,5,6,7,9,10,11,12,13,14,16,17,18,19],[0.0,0.5247285289349821,0.5247285289349821,1.238078416812447,0.36772478012531734,0.26236426446749106,1.0494570578699642,0.6190392084062235,1.103174340375952,0.7354495602506347,0.9710156315634016,0.36772478012531734,0.36772478012531734,0.4855078157817008,0.5247285289349821,1.0494570578699642,0.5247285289349821,0.5247285289349821])\n"
          ],
          "name": "stdout"
        }
      ]
    },
    {
      "cell_type": "markdown",
      "metadata": {
        "id": "ODFEtDGz8whc"
      },
      "source": [
        "**c) TRY WITH NGRAMS**"
      ]
    },
    {
      "cell_type": "code",
      "metadata": {
        "id": "8kt4StN1mxVT",
        "colab": {
          "base_uri": "https://localhost:8080/"
        },
        "outputId": "29840aed-dff7-40e4-f941-ed5095aa64e6"
      },
      "source": [
        "#importing libraries\r\n",
        "import nltk\r\n",
        "import re\r\n",
        "from sklearn.feature_extraction.text import CountVectorizer, TfidfVectorizer\r\n",
        "from nltk.corpus import stopwords\r\n",
        "from nltk.tokenize import word_tokenize\r\n",
        "import pandas as pd\r\n",
        "\r\n",
        "txt1 = []\r\n",
        "# Importing text document\r\n",
        "with open('/content/text3.txt') as file:\r\n",
        "    txt1 = file.readlines()\r\n",
        "#removing special characters\r\n",
        "def remove_string_special_characters(s):\r\n",
        "    stripped = re.sub('[^a-zA-z\\s]', '', s)\r\n",
        "    stripped = re.sub('_', '', stripped)\r\n",
        "    stripped = re.sub('\\s+', ' ', stripped)\r\n",
        "    stripped = stripped.strip()\r\n",
        "    if stripped != '':\r\n",
        "        return stripped.lower()\r\n",
        "#calculating the word2vector\r\n",
        "vectorizer = CountVectorizer(ngram_range=(2, 2))\r\n",
        "X1 = vectorizer.fit_transform(txt1)\r\n",
        "features = (vectorizer.get_feature_names())\r\n",
        "print(\"\\n\\nFeatures : \\n\", features)\r\n",
        "print(\"\\n\\nX1 : \\n\", X1.toarray())\r\n",
        "\r\n",
        "vectorizer = TfidfVectorizer(ngram_range=(3, 3))\r\n",
        "X2 = vectorizer.fit_transform(txt1)\r\n",
        "scores = (X2.toarray())\r\n",
        "print(\"\\n\\nScores : \\n\", scores)\r\n",
        "\r\n",
        "# Finding the top ranking features=\r\n",
        "sums = X2.sum(axis=0)\r\n",
        "data1 = []\r\n",
        "for col, term in enumerate(features):\r\n",
        "    data1.append((term, sums[0, col]))\r\n",
        "ranking = pd.DataFrame(data1, columns=['term', 'rank'])\r\n",
        "words = (ranking.sort_values('rank', ascending=False))\r\n",
        "print(\"\\n\\nWords head : \\n\", words.head(10))"
      ],
      "execution_count": 26,
      "outputs": [
        {
          "output_type": "stream",
          "text": [
            "\n",
            "\n",
            "Features : \n",
            " ['1970s now', 'acting on', 'admonition don', 'against the', 'alone it', 'american presidents', 'and dwindling', 'and higher', 'and nervous', 'and not', 'and reagan', 'are turning', 'as the', 'bartering steel', 'because of', 'bismarck admonition', 'britain and', 'but what', 'by bartering', 'carter and', 'cold war', 'defied three', 'demand as', 'don rile', 'during the', 'dwindling demand', 'east europeans', 'economic sense', 'efficiency suddenly', 'energy but', 'europeans who', 'even during', 'even the', 'for soviet', 'french are', 'germany defied', 'global oil', 'have made', 'higher efficiency', 'home alone', 'however merkel', 'industrial world', 'is acting', 'is home', 'is not', 'it is', 'just the', 'made economic', 'merkel is', 'might have', 'nervous east', 'new stage', 'nixon carter', 'nord stream', 'not just', 'not only', 'now reflects', 'of oversupply', 'of the', 'oil shocks', 'on new', 'only because', 'only bismarck', 'oversupply and', 'pipes for', 'presidents nixon', 'reagan by', 'reduce nord', 'reflects only', 'rile the', 'scrap even', 'sense during', 'shifts to', 'shocks of', 'solar wind', 'soviet energy', 'stage and', 'steel pipes', 'stream to', 'suddenly merkel', 'the 1970s', 'the cold', 'the deal', 'the french', 'the global', 'the industrial', 'the russians', 'the us', 'three american', 'to reduce', 'to scrap', 'to solar', 'today however', 'turning against', 'us britain', 'want to', 'war west', 'west germany', 'what might', 'who want', 'wind and', 'world shifts']\n",
            "\n",
            "\n",
            "X1 : \n",
            " [[1 0 1 0 0 1 0 0 0 0 1 0 0 1 0 1 0 1 1 1 1 1 0 1 2 0 0 1 0 1 0 1 0 1 0 1\n",
            "  1 1 0 0 0 0 0 0 0 0 0 1 0 1 0 0 1 0 0 0 1 0 1 1 0 0 1 0 1 1 1 0 1 1 0 1\n",
            "  0 1 0 1 0 1 0 0 1 1 0 0 1 0 1 0 1 0 0 0 0 0 0 0 1 1 1 0 0 0]\n",
            " [0 0 0 0 0 0 0 0 0 0 0 0 0 0 0 0 0 0 0 0 0 0 0 0 0 0 0 0 0 0 0 0 0 0 0 0\n",
            "  0 0 0 0 0 0 0 0 0 0 0 0 0 0 0 0 0 0 0 0 0 0 0 0 0 0 0 0 0 0 0 0 0 0 0 0\n",
            "  0 0 0 0 0 0 0 0 0 0 0 0 0 0 0 0 0 0 0 0 0 0 0 0 0 0 0 0 0 0]\n",
            " [0 1 0 1 1 0 1 1 1 1 0 1 1 0 1 0 1 0 0 0 0 0 1 0 0 1 1 0 1 0 1 0 1 0 1 0\n",
            "  0 0 1 1 1 1 1 1 1 1 1 0 2 0 1 1 0 1 1 1 0 1 0 0 1 1 0 1 0 0 0 1 0 0 1 0\n",
            "  1 0 1 0 1 0 1 1 0 0 1 1 0 1 0 1 0 1 1 1 1 1 1 1 0 0 0 1 1 1]]\n",
            "\n",
            "\n",
            "Scores : \n",
            " [[0.15075567 0.         0.15075567 0.         0.         0.15075567\n",
            "  0.         0.         0.         0.         0.15075567 0.\n",
            "  0.         0.15075567 0.         0.15075567 0.         0.15075567\n",
            "  0.15075567 0.15075567 0.15075567 0.15075567 0.         0.15075567\n",
            "  0.15075567 0.15075567 0.         0.         0.15075567 0.\n",
            "  0.15075567 0.         0.15075567 0.         0.15075567 0.\n",
            "  0.15075567 0.15075567 0.15075567 0.         0.         0.\n",
            "  0.         0.         0.         0.         0.         0.\n",
            "  0.15075567 0.         0.         0.15075567 0.         0.\n",
            "  0.15075567 0.         0.         0.         0.15075567 0.\n",
            "  0.15075567 0.15075567 0.         0.         0.15075567 0.\n",
            "  0.15075567 0.15075567 0.15075567 0.         0.15075567 0.15075567\n",
            "  0.         0.15075567 0.         0.15075567 0.         0.15075567\n",
            "  0.         0.15075567 0.         0.         0.15075567 0.15075567\n",
            "  0.         0.15075567 0.         0.         0.15075567 0.\n",
            "  0.         0.         0.         0.         0.         0.\n",
            "  0.15075567 0.15075567 0.15075567 0.         0.         0.        ]\n",
            " [0.         0.         0.         0.         0.         0.\n",
            "  0.         0.         0.         0.         0.         0.\n",
            "  0.         0.         0.         0.         0.         0.\n",
            "  0.         0.         0.         0.         0.         0.\n",
            "  0.         0.         0.         0.         0.         0.\n",
            "  0.         0.         0.         0.         0.         0.\n",
            "  0.         0.         0.         0.         0.         0.\n",
            "  0.         0.         0.         0.         0.         0.\n",
            "  0.         0.         0.         0.         0.         0.\n",
            "  0.         0.         0.         0.         0.         0.\n",
            "  0.         0.         0.         0.         0.         0.\n",
            "  0.         0.         0.         0.         0.         0.\n",
            "  0.         0.         0.         0.         0.         0.\n",
            "  0.         0.         0.         0.         0.         0.\n",
            "  0.         0.         0.         0.         0.         0.\n",
            "  0.         0.         0.         0.         0.         0.\n",
            "  0.         0.         0.         0.         0.         0.        ]\n",
            " [0.         0.13130643 0.         0.13130643 0.13130643 0.\n",
            "  0.13130643 0.13130643 0.13130643 0.13130643 0.         0.13130643\n",
            "  0.13130643 0.         0.13130643 0.         0.13130643 0.\n",
            "  0.         0.         0.         0.         0.13130643 0.\n",
            "  0.         0.         0.13130643 0.13130643 0.         0.13130643\n",
            "  0.         0.13130643 0.         0.13130643 0.         0.13130643\n",
            "  0.         0.         0.         0.13130643 0.13130643 0.13130643\n",
            "  0.13130643 0.13130643 0.13130643 0.13130643 0.13130643 0.13130643\n",
            "  0.         0.13130643 0.13130643 0.         0.13130643 0.13130643\n",
            "  0.         0.13130643 0.13130643 0.13130643 0.         0.13130643\n",
            "  0.         0.         0.13130643 0.13130643 0.         0.13130643\n",
            "  0.         0.         0.         0.13130643 0.         0.\n",
            "  0.13130643 0.         0.13130643 0.         0.13130643 0.\n",
            "  0.13130643 0.         0.13130643 0.13130643 0.         0.\n",
            "  0.13130643 0.         0.13130643 0.13130643 0.         0.13130643\n",
            "  0.13130643 0.13130643 0.13130643 0.13130643 0.13130643 0.13130643\n",
            "  0.         0.         0.         0.13130643 0.13130643 0.13130643]]\n",
            "\n",
            "\n",
            "Words head : \n",
            "                  term      rank\n",
            "0           1970s now  0.150756\n",
            "68      reflects only  0.150756\n",
            "34         french are  0.150756\n",
            "36         global oil  0.150756\n",
            "37          have made  0.150756\n",
            "38  higher efficiency  0.150756\n",
            "48          merkel is  0.150756\n",
            "54           not just  0.150756\n",
            "58             of the  0.150756\n",
            "60             on new  0.150756\n"
          ],
          "name": "stdout"
        }
      ]
    },
    {
      "cell_type": "markdown",
      "metadata": {
        "id": "eUVDwY7M9NaR"
      },
      "source": [
        "**COSINE SIMILARITY**"
      ]
    },
    {
      "cell_type": "code",
      "metadata": {
        "id": "i05_h92gaRnB"
      },
      "source": [
        "#creating sparksession for cosine similarity\r\n",
        "spark3 = SparkSession.builder.appName(\"Ngram Similarity\").getOrCreate()"
      ],
      "execution_count": 36,
      "outputs": []
    },
    {
      "cell_type": "code",
      "metadata": {
        "id": "LienhE8FeVDm"
      },
      "source": [
        "# Creating dataframe with five text abstracts\r\n",
        "abst = spark3.read.text('text*.txt')"
      ],
      "execution_count": 37,
      "outputs": []
    },
    {
      "cell_type": "code",
      "metadata": {
        "id": "JLeKX1l-eaky"
      },
      "source": [
        "# Tokenize the abstract texts\r\n",
        "tokenizer = Tokenizer(inputCol=\"value\", outputCol=\"words\")\r\n",
        "wordsData = tokenizer.transform(abst)"
      ],
      "execution_count": 38,
      "outputs": []
    },
    {
      "cell_type": "code",
      "metadata": {
        "id": "rWBwahLneezR"
      },
      "source": [
        "\r\n",
        "# Creating n-grams with n=2\r\n",
        "ngram = NGram(n=2, inputCol=\"words\", outputCol=\"ngrams\")\r\n",
        "ngramDataFrame = ngram.transform(wordsData)"
      ],
      "execution_count": 39,
      "outputs": []
    },
    {
      "cell_type": "code",
      "metadata": {
        "id": "WtMcWwZyejUD",
        "colab": {
          "base_uri": "https://localhost:8080/"
        },
        "outputId": "639de546-51c1-4e01-e8af-59dd80f88dfd"
      },
      "source": [
        "# displaying the results\r\n",
        "ngramDataFrame.select(\"ngrams\").show(truncate=False)"
      ],
      "execution_count": 40,
      "outputs": [
        {
          "output_type": "stream",
          "text": [
            "+---------------------------------------------------------------------------------------------------------------------------------------------------------------------------------------------------------------------------------------------------------------------------------------------------------------------------------------------------------------------------------------------------------------------------------------------------------------------------------------------------------------------------------------------------------------------------------------------------------------------------------------------------------------------------------------------------------------------------------------------------------------------------------------------------------------------------------------------------------------------------------------------------------------------------------------------------------------------------------------------------------------------------------------------------------------------------------------------------------------------------------------------------------------------------------------------------------------------------------------------------------------------------------------------------------------------------------------------------------------------------------------------------------------------------------------------------------------------------------------------------------------------------------------------------------------------------------------------------------------------------------------------------------------------------------------------------------------------------------------------------------------------------------------------------------------------------------------------------------------------------------------------------------------------------------------------------------------------------------------------------------------------------------------------------------------------------------------------------------------------------------------------------------------------------------------------------------------------------------------------------------------------------------------------------------------------------------------------------------------------------------------------------------------------------------------------------------------------------------------------------------------------------------------------------------------------------------------------------------------------------------------------------------------------------------------------------------------------------------------------------------------------------------------------------------------------------------------------------------------------------------------------------------------------------------------------------------------------------------------------------------------------------------------------------------------------------------------------------------------------------------------------------------------------------------------------------------------------------------------------------------------------------------------------------------------------------------------------------------------------------------------------------------------------------------------------------------------------------------------------------------------------------------------------------------------------------------------------------------------------------------------------------------------------------------------------------------------------------------------------------------------------------------------------------------------------------------------------------------------------------------------------------------------------------------------------------------------------------------------------------------------------------------------------------------------------------------------------------------------------------------------------------------------------------------------------------------------------------------------------------------------------------------------------------------------------------------------------------------------------------------------------------------------------------------------------------------------------------------------------------------------------------------------------------------------------------------------------------------------------------------------------------------------------------------------------------------------------------------------------------------------------------------------------------------------------------------------------------------------------------------------------------------------------------------------------------------------------------------------------------------------------------------------------------------------------------------------------------------------------------------------------------------------------------------------------------------------------------------------------------------------------------------------------------------------------------------------------------------------------------------------------------------------------------------------------------------------------------------------------------------------------------------------------------------------------------------------------------------------------------------------------------------------------------------------------------------------------------------------------------------------------------------------------------------------------------------------------------------------------------------------------------------------------------------------------------------------------------------------------------------------------------------------------------------------------------------------------------------------------------------------------------------------------------------------------------------------------------------------------------------------------------------------------------------------------------------------------------------------------------------------------------------------------------------------------------------------------------------------------------------------------------------------------------------------------------------------------------------------------------------------------------------------------------------------------------------------------------------------------------------------------------------------------------------------------------------------------------------------------------------------------------------------------------------------------------------------------------------------------------------------------------------------------------------------------------------------------------------------------------------------------------------------------------------------------------------------------------------------------------------------------------------------------------------------------------------------------------------------------------------------------------------------------------------------------+\n",
            "|ngrams                                                                                                                                                                                                                                                                                                                                                                                                                                                                                                                                                                                                                                                                                                                                                                                                                                                                                                                                                                                                                                                                                                                                                                                                                                                                                                                                                                                                                                                                                                                                                                                                                                                                                                                                                                                                                                                                                                                                                                                                                                                                                                                                                                                                                                                                                                                                                                                                                                                                                                                                                                                                                                                                                                                                                                                                                                                                                                                                                                                                                                                                                                                                                                                                                                                                                                                                                                                                                                                                                                                                                                                                                                                                                                                                                                                                                                                                                                                                                                                                                                                                                                                                                                                                                                                                                                                                                                                                                                                                                                                                                                                                                                                                                                                                                                                                                                                                                                                                                                                                                                                                                                                                                                                                                                                                                                                                                                                                                                                                                                                                                                                                                                                                                                                                                                                                                                                                                                                                                                                                                                                                                                                                                                                                                                                                                                                                                                                                                                                                                                                                                                                                                                                                                                                                                                                                                                                                                                                                                                                                                                                                                                                                                                                                                                                                                                                                                                                                                                       |\n",
            "+---------------------------------------------------------------------------------------------------------------------------------------------------------------------------------------------------------------------------------------------------------------------------------------------------------------------------------------------------------------------------------------------------------------------------------------------------------------------------------------------------------------------------------------------------------------------------------------------------------------------------------------------------------------------------------------------------------------------------------------------------------------------------------------------------------------------------------------------------------------------------------------------------------------------------------------------------------------------------------------------------------------------------------------------------------------------------------------------------------------------------------------------------------------------------------------------------------------------------------------------------------------------------------------------------------------------------------------------------------------------------------------------------------------------------------------------------------------------------------------------------------------------------------------------------------------------------------------------------------------------------------------------------------------------------------------------------------------------------------------------------------------------------------------------------------------------------------------------------------------------------------------------------------------------------------------------------------------------------------------------------------------------------------------------------------------------------------------------------------------------------------------------------------------------------------------------------------------------------------------------------------------------------------------------------------------------------------------------------------------------------------------------------------------------------------------------------------------------------------------------------------------------------------------------------------------------------------------------------------------------------------------------------------------------------------------------------------------------------------------------------------------------------------------------------------------------------------------------------------------------------------------------------------------------------------------------------------------------------------------------------------------------------------------------------------------------------------------------------------------------------------------------------------------------------------------------------------------------------------------------------------------------------------------------------------------------------------------------------------------------------------------------------------------------------------------------------------------------------------------------------------------------------------------------------------------------------------------------------------------------------------------------------------------------------------------------------------------------------------------------------------------------------------------------------------------------------------------------------------------------------------------------------------------------------------------------------------------------------------------------------------------------------------------------------------------------------------------------------------------------------------------------------------------------------------------------------------------------------------------------------------------------------------------------------------------------------------------------------------------------------------------------------------------------------------------------------------------------------------------------------------------------------------------------------------------------------------------------------------------------------------------------------------------------------------------------------------------------------------------------------------------------------------------------------------------------------------------------------------------------------------------------------------------------------------------------------------------------------------------------------------------------------------------------------------------------------------------------------------------------------------------------------------------------------------------------------------------------------------------------------------------------------------------------------------------------------------------------------------------------------------------------------------------------------------------------------------------------------------------------------------------------------------------------------------------------------------------------------------------------------------------------------------------------------------------------------------------------------------------------------------------------------------------------------------------------------------------------------------------------------------------------------------------------------------------------------------------------------------------------------------------------------------------------------------------------------------------------------------------------------------------------------------------------------------------------------------------------------------------------------------------------------------------------------------------------------------------------------------------------------------------------------------------------------------------------------------------------------------------------------------------------------------------------------------------------------------------------------------------------------------------------------------------------------------------------------------------------------------------------------------------------------------------------------------------------------------------------------------------------------------------------------------------------------------------------------------------------------------------------------------------------------------------------------------------------------------------------------------------------------------------------------------------------------------------------------------------------------------------------------------------------------------------------------------------------------------------------------------------------------------------------------------------------------------------------+\n",
            "|[kobach ’, ’ s, s law, law blocked, blocked the, the registration, registration of, of more, more than, than 35,000, 35,000 eligible, eligible kansas, kansas voter, voter and, and dissuaded, dissuaded countless, countless others, others from, from attempting, attempting to, to register, register ., . the, the law, law wa, wa necessary, necessary ,, , kobach, kobach argued, argued ,, , because, because the, the handful, handful of, of known, known voter, voter fraud, fraud case, case were, were the, the “, “ tip, tip of, of the, the iceberg., iceberg. ”, ” when, when he, he failed, failed in, in court, court to, to provide, provide evidence, evidence supporting, supporting the, the claim, claim ,, , u.s., u.s. district, district court, court judge, judge julie, julie robinson, robinson said, said the, the iceberg, iceberg wa, wa “, “ only, only an, an icicle, icicle ”, ” and, and ruled, ruled the, the law, law unconstitutional, unconstitutional ., . kansas, kansas attorney, attorney general, general derek, derek schmidt, schmidt and, and secretary, secretary of, of state, state scott, scott schwab, schwab picked, picked up, up the, the baton, baton when, when kobach, kobach left, left office, office following, following his, his failed, failed attempt, attempt to, to become, become governor, governor ., . an, an appeal, appeal court, court again, again rejected, rejected the, the state, state ’, ’ s, s argument, argument in, in support, support of, of the, the law, law ,, , and, and the, the u.s., u.s. supreme, supreme court, court alliancechicago, alliancechicago community, community health, health center, center have, have their, their own, own unique, unique research, research review, review process, process and, and may, may include, include formal, formal institutional, institutional review, review board, board (, ( irb, irb ), ) review, review and/or, and/or in-person, in-person presentation, presentation to, to community, community review, review board, board ., . we, we help, help our, our collaborating, collaborating researcher, researcher navigate, navigate the, the research, research review, review process, process by, by serving, serving a, a an, an administrative, administrative liaison, liaison ., . alliancechicago, alliancechicago ’, ’ s, s irb, irb of, of record, record is, is the, the chicago, chicago department, department of, of public, public health, health institutional, institutional review, review board, board ., . even, even during, during the, the cold, cold war, war ,, , west, west germany, germany defied, defied three, three american, american president, president –, – nixon, nixon ,, , carter, carter ,, , and, and reagan, reagan –, – by, by bartering, bartering steel, steel pipe, pipe for, for soviet, soviet energy, energy ., . but, but what, what might, might have, have made, made economic, economic sense, sense during, during the, the global, global oil, oil shock, shock of, of the, the 1970s, 1970s now, now reflects, reflects only, only bismarck, bismarck ’, ’ s, s admonition, admonition :, : don, don ’, ’ t, t rile, rile the, the russians, russians ., . today, today ,, , however, however ,, , merkel, merkel is, is acting, acting on, on a, a new, new stage, stage ,, , and, and not, not only, only because, because of, of oversupply, oversupply and, and dwindling, dwindling demand, demand a, a the, the industrial, industrial world, world shift, shift to, to solar, solar ,, , wind, wind ,, , and, and higher, higher efficiency, efficiency ., . suddenly, suddenly ,, , merkel, merkel is, is “, “ home, home alone, alone ., . ”, ” it, it is, is not, not just, just the, the us, us ,, , britain, britain ,, , and, and nervous, nervous east, east europeans, europeans who, who want, want to, to reduce, reduce nord, nord stream, stream 2, 2 to, to scrap, scrap ., . even, even the, the french, french are, are turning, turning against, against the, the deal, deal ., . even, even during, during the, the cold, cold war, war ,, , west, west germany, germany defied, defied three, three american, american president, president –, – nixon, nixon ,, , carter, carter ,, , and, and reagan, reagan –, – by, by bartering, bartering steel, steel pipe, pipe for, for soviet, soviet energy, energy ., . but, but what, what might, might have, have made, made economic, economic sense, sense during, during the, the global, global oil, oil shock, shock of, of the, the 1970s, 1970s now, now reflects, reflects only, only bismarck, bismarck ’, ’ s, s admonition, admonition :, : don, don ’, ’ t, t rile, rile the, the russians, russians ., . today, today ,, , however, however ,, , merkel, merkel is, is acting, acting on, on a, a new, new stage, stage ,, , and, and not, not only, only because, because of, of oversupply, oversupply and, and dwindling, dwindling demand, demand a, a the, the industrial, industrial world, world shift, shift to, to solar, solar ,, , wind, wind ,, , and, and higher, higher efficiency, efficiency ., . suddenly, suddenly ,, , merkel, merkel is, is “, “ home, home alone., alone. ”, ” it, it is, is not, not just, just the, the us, us ,, , britain, britain ,, , and, and nervous, nervous east, east europeans, europeans who, who want, want to, to reduce, reduce nord, nord stream, stream 2, 2 to, to scrap, scrap ., . even, even the, the french, french are, are turning, turning against, against the, the deal, deal ., . draghi, draghi ’, ’ s, s ascension, ascension to, to the, the european, european stage, stage alongside, alongside macron, macron and, and merkel, merkel also, also implies, implies closer, closer eu-us, eu-us relation, relation ., . us, us president, president joe, joe biden, biden could, could not, not find, find a, a better, better ally, ally in, in europe, europe ., . italy, italy ’, ’ s, s new, new government, government ,, , draghi, draghi vowed, vowed ,, , will, will be, be “, “ strongly, strongly pro-european, pro-european and, and atlanticist, atlanticist ,, , in, in line, line with, with italy, italy ’, ’ s, s historical, historical anchors., anchors. ”, ” this, this mark, mark a, a break, break with, with the, the foreign, foreign policy, policy of, of giuseppe, giuseppe conte, conte ,, , the, the previous, previous prime, prime minister, minister ,, , who, who had, had aligned, aligned italy, italy more, more closely, closely with, with china, china ., . draghi, draghi is, is giving, giving the, the transatlantic, transatlantic alliance, alliance a, a chance, chance to, to recover, recover after, after four, four year, year of, of donald, donald trump, trump ’, ’ s, s strategic, strategic recklessness, recklessness ., . mark, mark johnson, johnson ,, , an, an adjunct, adjunct professor, professor at, at the, the university, university of, of kansas, kansas school, school of, of law, law who, who represented, represented a, a ku, ku student, student in, in a, a joined, joined case, case ,, , said, said the, the appeal, appeal probably, probably account, account for, for 25, 25 %, % of, of the, the total, total cost, cost of, of attorney, attorney fee, fee and, and expense, expense .]|\n",
            "|[kobach’s law, law blocked, blocked the, the registrations, registrations of, of more, more than, than 35,000, 35,000 eligible, eligible kansas, kansas voters, voters and, and dissuaded, dissuaded countless, countless others, others from, from attempting, attempting to, to register.]                                                                                                                                                                                                                                                                                                                                                                                                                                                                                                                                                                                                                                                                                                                                                                                                                                                                                                                                                                                                                                                                                                                                                                                                                                                                                                                                                                                                                                                                                                                                                                                                                                                                                                                                                                                                                                                                                                                                                                                                                                                                                                                                                                                                                                                                                                                                                                                                                                                                                                                                                                                                                                                                                                                                                                                                                                                                                                                                                                                                                                                                                                                                                                                                                                                                                                                                                                                                                                                                                                                                                                                                                                                                                                                                                                                                                                                                                                                                                                                                                                                                                                                                                                                                                                                                                                                                                                                                                                                                                                                                                                                                                                                                                                                                                                                                                                                                                                                                                                                                                                                                                                                                                                                                                                                                                                                                                                                                                                                                                                                                                                                                                                                                                                                                                                                                                                                                                                                                                                                                                                                                                                                                                                                                                                                                                                                                                                                                                                                                                                                                                                                                                                                                                                                                                                                                                                                                                                                                                                                                                                                                                                                                                 |\n",
            "|[]                                                                                                                                                                                                                                                                                                                                                                                                                                                                                                                                                                                                                                                                                                                                                                                                                                                                                                                                                                                                                                                                                                                                                                                                                                                                                                                                                                                                                                                                                                                                                                                                                                                                                                                                                                                                                                                                                                                                                                                                                                                                                                                                                                                                                                                                                                                                                                                                                                                                                                                                                                                                                                                                                                                                                                                                                                                                                                                                                                                                                                                                                                                                                                                                                                                                                                                                                                                                                                                                                                                                                                                                                                                                                                                                                                                                                                                                                                                                                                                                                                                                                                                                                                                                                                                                                                                                                                                                                                                                                                                                                                                                                                                                                                                                                                                                                                                                                                                                                                                                                                                                                                                                                                                                                                                                                                                                                                                                                                                                                                                                                                                                                                                                                                                                                                                                                                                                                                                                                                                                                                                                                                                                                                                                                                                                                                                                                                                                                                                                                                                                                                                                                                                                                                                                                                                                                                                                                                                                                                                                                                                                                                                                                                                                                                                                                                                                                                                                                                           |\n",
            "|[the law, law was, was necessary,, necessary, kobach, kobach argued,, argued, because, because the, the handful, handful of, of known, known voter, voter fraud, fraud cases, cases were, were the, the “tip, “tip of, of the, the iceberg.”, iceberg.” when, when he, he failed, failed in, in court, court to, to provide, provide evidence, evidence supporting, supporting the, the claim,, claim, u.s., u.s. district, district court, court judge, judge julie, julie robinson, robinson said, said the, the iceberg, iceberg was, was “only, “only an, an icicle”, icicle” and, and ruled, ruled the, the law, law unconstitutional.]                                                                                                                                                                                                                                                                                                                                                                                                                                                                                                                                                                                                                                                                                                                                                                                                                                                                                                                                                                                                                                                                                                                                                                                                                                                                                                                                                                                                                                                                                                                                                                                                                                                                                                                                                                                                                                                                                                                                                                                                                                                                                                                                                                                                                                                                                                                                                                                                                                                                                                                                                                                                                                                                                                                                                                                                                                                                                                                                                                                                                                                                                                                                                                                                                                                                                                                                                                                                                                                                                                                                                                                                                                                                                                                                                                                                                                                                                                                                                                                                                                                                                                                                                                                                                                                                                                                                                                                                                                                                                                                                                                                                                                                                                                                                                                                                                                                                                                                                                                                                                                                                                                                                                                                                                                                                                                                                                                                                                                                                                                                                                                                                                                                                                                                                                                                                                                                                                                                                                                                                                                                                                                                                                                                                                                                                                                                                                                                                                                                                                                                                                                                                                                                                                                                                                                                                 |\n",
            "|[]                                                                                                                                                                                                                                                                                                                                                                                                                                                                                                                                                                                                                                                                                                                                                                                                                                                                                                                                                                                                                                                                                                                                                                                                                                                                                                                                                                                                                                                                                                                                                                                                                                                                                                                                                                                                                                                                                                                                                                                                                                                                                                                                                                                                                                                                                                                                                                                                                                                                                                                                                                                                                                                                                                                                                                                                                                                                                                                                                                                                                                                                                                                                                                                                                                                                                                                                                                                                                                                                                                                                                                                                                                                                                                                                                                                                                                                                                                                                                                                                                                                                                                                                                                                                                                                                                                                                                                                                                                                                                                                                                                                                                                                                                                                                                                                                                                                                                                                                                                                                                                                                                                                                                                                                                                                                                                                                                                                                                                                                                                                                                                                                                                                                                                                                                                                                                                                                                                                                                                                                                                                                                                                                                                                                                                                                                                                                                                                                                                                                                                                                                                                                                                                                                                                                                                                                                                                                                                                                                                                                                                                                                                                                                                                                                                                                                                                                                                                                                                           |\n",
            "|[kansas attorney, attorney general, general derek, derek schmidt, schmidt and, and secretary, secretary of, of state, state scott, scott schwab, schwab picked, picked up, up the, the baton, baton when, when kobach, kobach left, left office, office following, following his, his failed, failed attempt, attempt to, to become, become governor., governor. an, an appeals, appeals court, court again, again rejected, rejected the, the state’s, state’s arguments, arguments in, in support, support of, of the, the law,, law, and, and the, the u.s., u.s. supreme, supreme court]                                                                                                                                                                                                                                                                                                                                                                                                                                                                                                                                                                                                                                                                                                                                                                                                                                                                                                                                                                                                                                                                                                                                                                                                                                                                                                                                                                                                                                                                                                                                                                                                                                                                                                                                                                                                                                                                                                                                                                                                                                                                                                                                                                                                                                                                                                                                                                                                                                                                                                                                                                                                                                                                                                                                                                                                                                                                                                                                                                                                                                                                                                                                                                                                                                                                                                                                                                                                                                                                                                                                                                                                                                                                                                                                                                                                                                                                                                                                                                                                                                                                                                                                                                                                                                                                                                                                                                                                                                                                                                                                                                                                                                                                                                                                                                                                                                                                                                                                                                                                                                                                                                                                                                                                                                                                                                                                                                                                                                                                                                                                                                                                                                                                                                                                                                                                                                                                                                                                                                                                                                                                                                                                                                                                                                                                                                                                                                                                                                                                                                                                                                                                                                                                                                                                                                                                                                                 |\n",
            "|[even during, during the, the cold, cold war,, war, west, west germany, germany defied, defied three, three american, american presidents, presidents –, – nixon,, nixon, carter,, carter, and, and reagan, reagan –, – by, by bartering, bartering steel, steel pipes, pipes for, for soviet, soviet energy., energy. but, but what, what might, might have, have made, made economic, economic sense, sense during, during the, the global, global oil, oil shocks, shocks of, of the, the 1970s, 1970s now, now reflects, reflects only, only bismarck’s, bismarck’s admonition:, admonition: don’t, don’t rile, rile the, the russians.]                                                                                                                                                                                                                                                                                                                                                                                                                                                                                                                                                                                                                                                                                                                                                                                                                                                                                                                                                                                                                                                                                                                                                                                                                                                                                                                                                                                                                                                                                                                                                                                                                                                                                                                                                                                                                                                                                                                                                                                                                                                                                                                                                                                                                                                                                                                                                                                                                                                                                                                                                                                                                                                                                                                                                                                                                                                                                                                                                                                                                                                                                                                                                                                                                                                                                                                                                                                                                                                                                                                                                                                                                                                                                                                                                                                                                                                                                                                                                                                                                                                                                                                                                                                                                                                                                                                                                                                                                                                                                                                                                                                                                                                                                                                                                                                                                                                                                                                                                                                                                                                                                                                                                                                                                                                                                                                                                                                                                                                                                                                                                                                                                                                                                                                                                                                                                                                                                                                                                                                                                                                                                                                                                                                                                                                                                                                                                                                                                                                                                                                                                                                                                                                                                                                                                                                                 |\n",
            "|[]                                                                                                                                                                                                                                                                                                                                                                                                                                                                                                                                                                                                                                                                                                                                                                                                                                                                                                                                                                                                                                                                                                                                                                                                                                                                                                                                                                                                                                                                                                                                                                                                                                                                                                                                                                                                                                                                                                                                                                                                                                                                                                                                                                                                                                                                                                                                                                                                                                                                                                                                                                                                                                                                                                                                                                                                                                                                                                                                                                                                                                                                                                                                                                                                                                                                                                                                                                                                                                                                                                                                                                                                                                                                                                                                                                                                                                                                                                                                                                                                                                                                                                                                                                                                                                                                                                                                                                                                                                                                                                                                                                                                                                                                                                                                                                                                                                                                                                                                                                                                                                                                                                                                                                                                                                                                                                                                                                                                                                                                                                                                                                                                                                                                                                                                                                                                                                                                                                                                                                                                                                                                                                                                                                                                                                                                                                                                                                                                                                                                                                                                                                                                                                                                                                                                                                                                                                                                                                                                                                                                                                                                                                                                                                                                                                                                                                                                                                                                                                           |\n",
            "|[today, however,, however, merkel, merkel is, is acting, acting on, on a, a new, new stage,, stage, and, and not, not only, only because, because of, of oversupply, oversupply and, and dwindling, dwindling demand, demand as, as the, the industrial, industrial world, world shifts, shifts to, to solar,, solar, wind,, wind, and, and higher, higher efficiency., efficiency. suddenly,, suddenly, merkel, merkel is, is “home, “home alone.”, alone.” it, it is, is not, not just, just the, the us,, us, britain,, britain, and, and nervous, nervous east, east europeans, europeans who, who want, want to, to reduce, reduce nord, nord stream, stream 2, 2 to, to scrap., scrap. even, even the, the french, french are, are turning, turning against, against the, the deal.]                                                                                                                                                                                                                                                                                                                                                                                                                                                                                                                                                                                                                                                                                                                                                                                                                                                                                                                                                                                                                                                                                                                                                                                                                                                                                                                                                                                                                                                                                                                                                                                                                                                                                                                                                                                                                                                                                                                                                                                                                                                                                                                                                                                                                                                                                                                                                                                                                                                                                                                                                                                                                                                                                                                                                                                                                                                                                                                                                                                                                                                                                                                                                                                                                                                                                                                                                                                                                                                                                                                                                                                                                                                                                                                                                                                                                                                                                                                                                                                                                                                                                                                                                                                                                                                                                                                                                                                                                                                                                                                                                                                                                                                                                                                                                                                                                                                                                                                                                                                                                                                                                                                                                                                                                                                                                                                                                                                                                                                                                                                                                                                                                                                                                                                                                                                                                                                                                                                                                                                                                                                                                                                                                                                                                                                                                                                                                                                                                                                                                                                                                                                                                                                   |\n",
            "|[draghi’s ascension, ascension to, to the, the european, european stage, stage alongside, alongside macron, macron and, and merkel, merkel also, also implies, implies closer, closer eu-us, eu-us relations., relations. us, us president, president joe, joe biden, biden could, could not, not find, find a, a better, better ally, ally in, in europe., europe. italy’s, italy’s new, new government,, government, draghi, draghi vowed,, vowed, will, will be, be “strongly, “strongly pro-european, pro-european and, and atlanticist,, atlanticist, in, in line, line with, with italy’s, italy’s historical, historical anchors.”, anchors.” this, this marks, marks a, a break, break with, with the, the foreign, foreign policy, policy of, of giuseppe, giuseppe conte,, conte, the, the previous, previous prime, prime minister,, minister, who, who had, had aligned, aligned italy, italy more, more closely, closely with, with china., china. draghi, draghi is, is giving, giving the, the transatlantic, transatlantic alliance, alliance a, a chance, chance to, to recover, recover after, after four, four years, years of, of donald, donald trump’s, trump’s strategic, strategic recklessness.]                                                                                                                                                                                                                                                                                                                                                                                                                                                                                                                                                                                                                                                                                                                                                                                                                                                                                                                                                                                                                                                                                                                                                                                                                                                                                                                                                                                                                                                                                                                                                                                                                                                                                                                                                                                                                                                                                                                                                                                                                                                                                                                                                                                                                                                                                                                                                                                                                                                                                                                                                                                                                                                                                                                                                                                                                                                                                                                                                                                                                                                                                                                                                                                                                                                                                                                                                                                                                                                                                                                                                                                                                                                                                                                                                                                                                                                                                                                                                                                                                                                                                                                                                                                                                                                                                                                                                                                                                                                                                                                                                                                                                                                                                                                                                                                                                                                                                                                                                                                                                                                                                                                                                                                                                                                                                                                                                                                                                                                                                                                                                                                                                                                                                                                                                                                                                                                                                                                                                                                                                                                                                                                                                                                                                    |\n",
            "|[alliancechicago community, community health, health centers, centers have, have their, their own, own unique, unique research, research review, review processes, processes and, and may, may include, include formal, formal institutional, institutional review, review board, board (irb), (irb) review, review and/or, and/or in-person, in-person presentations, presentations to, to community, community review, review boards., boards. we, we help, help our, our collaborating, collaborating researchers, researchers navigate, navigate the, the research, research review, review process, process by, by serving, serving as, as an, an administrative, administrative liaison., liaison. alliancechicago’s, alliancechicago’s irb, irb of, of record, record is, is the, the chicago, chicago department, department of, of public, public health, health institutional, institutional review, review board.]                                                                                                                                                                                                                                                                                                                                                                                                                                                                                                                                                                                                                                                                                                                                                                                                                                                                                                                                                                                                                                                                                                                                                                                                                                                                                                                                                                                                                                                                                                                                                                                                                                                                                                                                                                                                                                                                                                                                                                                                                                                                                                                                                                                                                                                                                                                                                                                                                                                                                                                                                                                                                                                                                                                                                                                                                                                                                                                                                                                                                                                                                                                                                                                                                                                                                                                                                                                                                                                                                                                                                                                                                                                                                                                                                                                                                                                                                                                                                                                                                                                                                                                                                                                                                                                                                                                                                                                                                                                                                                                                                                                                                                                                                                                                                                                                                                                                                                                                                                                                                                                                                                                                                                                                                                                                                                                                                                                                                                                                                                                                                                                                                                                                                                                                                                                                                                                                                                                                                                                                                                                                                                                                                                                                                                                                                                                                                                                                                                                                                                                |\n",
            "|[mark johnson,, johnson, an, an adjunct, adjunct professor, professor at, at the, the university, university of, of kansas, kansas school, school of, of law, law who, who represented, represented a, a ku, ku student, student in, in a, a joined, joined case,, case, said, said the, the appeals, appeals probably, probably account, account for, for 25%, 25% of, of the, the total, total cost, cost of, of attorney, attorney fees, fees and, and expenses.]                                                                                                                                                                                                                                                                                                                                                                                                                                                                                                                                                                                                                                                                                                                                                                                                                                                                                                                                                                                                                                                                                                                                                                                                                                                                                                                                                                                                                                                                                                                                                                                                                                                                                                                                                                                                                                                                                                                                                                                                                                                                                                                                                                                                                                                                                                                                                                                                                                                                                                                                                                                                                                                                                                                                                                                                                                                                                                                                                                                                                                                                                                                                                                                                                                                                                                                                                                                                                                                                                                                                                                                                                                                                                                                                                                                                                                                                                                                                                                                                                                                                                                                                                                                                                                                                                                                                                                                                                                                                                                                                                                                                                                                                                                                                                                                                                                                                                                                                                                                                                                                                                                                                                                                                                                                                                                                                                                                                                                                                                                                                                                                                                                                                                                                                                                                                                                                                                                                                                                                                                                                                                                                                                                                                                                                                                                                                                                                                                                                                                                                                                                                                                                                                                                                                                                                                                                                                                                                                                                         |\n",
            "+---------------------------------------------------------------------------------------------------------------------------------------------------------------------------------------------------------------------------------------------------------------------------------------------------------------------------------------------------------------------------------------------------------------------------------------------------------------------------------------------------------------------------------------------------------------------------------------------------------------------------------------------------------------------------------------------------------------------------------------------------------------------------------------------------------------------------------------------------------------------------------------------------------------------------------------------------------------------------------------------------------------------------------------------------------------------------------------------------------------------------------------------------------------------------------------------------------------------------------------------------------------------------------------------------------------------------------------------------------------------------------------------------------------------------------------------------------------------------------------------------------------------------------------------------------------------------------------------------------------------------------------------------------------------------------------------------------------------------------------------------------------------------------------------------------------------------------------------------------------------------------------------------------------------------------------------------------------------------------------------------------------------------------------------------------------------------------------------------------------------------------------------------------------------------------------------------------------------------------------------------------------------------------------------------------------------------------------------------------------------------------------------------------------------------------------------------------------------------------------------------------------------------------------------------------------------------------------------------------------------------------------------------------------------------------------------------------------------------------------------------------------------------------------------------------------------------------------------------------------------------------------------------------------------------------------------------------------------------------------------------------------------------------------------------------------------------------------------------------------------------------------------------------------------------------------------------------------------------------------------------------------------------------------------------------------------------------------------------------------------------------------------------------------------------------------------------------------------------------------------------------------------------------------------------------------------------------------------------------------------------------------------------------------------------------------------------------------------------------------------------------------------------------------------------------------------------------------------------------------------------------------------------------------------------------------------------------------------------------------------------------------------------------------------------------------------------------------------------------------------------------------------------------------------------------------------------------------------------------------------------------------------------------------------------------------------------------------------------------------------------------------------------------------------------------------------------------------------------------------------------------------------------------------------------------------------------------------------------------------------------------------------------------------------------------------------------------------------------------------------------------------------------------------------------------------------------------------------------------------------------------------------------------------------------------------------------------------------------------------------------------------------------------------------------------------------------------------------------------------------------------------------------------------------------------------------------------------------------------------------------------------------------------------------------------------------------------------------------------------------------------------------------------------------------------------------------------------------------------------------------------------------------------------------------------------------------------------------------------------------------------------------------------------------------------------------------------------------------------------------------------------------------------------------------------------------------------------------------------------------------------------------------------------------------------------------------------------------------------------------------------------------------------------------------------------------------------------------------------------------------------------------------------------------------------------------------------------------------------------------------------------------------------------------------------------------------------------------------------------------------------------------------------------------------------------------------------------------------------------------------------------------------------------------------------------------------------------------------------------------------------------------------------------------------------------------------------------------------------------------------------------------------------------------------------------------------------------------------------------------------------------------------------------------------------------------------------------------------------------------------------------------------------------------------------------------------------------------------------------------------------------------------------------------------------------------------------------------------------------------------------------------------------------------------------------------------------------------------------------------------------------------------------------------------------------------+\n",
            "\n"
          ],
          "name": "stdout"
        }
      ]
    },
    {
      "cell_type": "code",
      "metadata": {
        "id": "6EM0FAPY4Ufn"
      },
      "source": [
        "# Create a mapping from words to vectors\r\n",
        "word2Vec = Word2Vec(vectorSize=3, minCount=0, inputCol=\"words\", outputCol=\"result\")\r\n",
        "model = word2Vec.fit(ngramDataFrame)\r\n",
        "# print(model.getVectors().collect())\r\n",
        "# result = model.getVectors().collect()"
      ],
      "execution_count": 52,
      "outputs": []
    },
    {
      "cell_type": "code",
      "metadata": {
        "id": "1reQP66GfReU",
        "colab": {
          "base_uri": "https://localhost:8080/"
        },
        "outputId": "cd9079e7-f1d7-4bb3-fca0-8051e0aaf5ce"
      },
      "source": [
        "# Showing the synonyms and cosine similarity of the word cold in input data\r\n",
        "synonyms = model.findSynonyms(\"cold\", 10)\r\n",
        "synonyms.show(10)"
      ],
      "execution_count": 53,
      "outputs": [
        {
          "output_type": "stream",
          "text": [
            "+------------+------------------+\n",
            "|        word|        similarity|\n",
            "+------------+------------------+\n",
            "|     because|0.9971444606781006|\n",
            "|  necessary,| 0.993667483329773|\n",
            "|       solar|0.9915562868118286|\n",
            "|         law|0.9875060319900513|\n",
            "|        rile|0.9873764514923096|\n",
            "|   “strongly|0.9747214913368225|\n",
            "|     against|0.9743301868438721|\n",
            "|        war,|0.9715194702148438|\n",
            "|pro-european|0.9650136828422546|\n",
            "|       case,| 0.955816388130188|\n",
            "+------------+------------------+\n",
            "\n"
          ],
          "name": "stdout"
        }
      ]
    },
    {
      "cell_type": "code",
      "metadata": {
        "id": "5vgPNAqj4is5"
      },
      "source": [
        "# creating spark session\r\n",
        "spark4 = SparkSession.builder.appName(\"Word2Vec Similarity\").getOrCreate()"
      ],
      "execution_count": 43,
      "outputs": []
    },
    {
      "cell_type": "code",
      "metadata": {
        "id": "2SDKNLJ_4oMr"
      },
      "source": [
        "# Create the dataframe with five text abstracts\r\n",
        "abst = spark4.read.text('text**.txt')"
      ],
      "execution_count": 44,
      "outputs": []
    },
    {
      "cell_type": "code",
      "metadata": {
        "id": "zV6BEajk6_Lt"
      },
      "source": [
        "# Tokenize the abstract texts\r\n",
        "tokenizer = Tokenizer(inputCol=\"value\", outputCol=\"words\")\r\n",
        "wordsData = tokenizer.transform(abst)"
      ],
      "execution_count": 45,
      "outputs": []
    },
    {
      "cell_type": "code",
      "metadata": {
        "id": "9HnPUkoI41L8"
      },
      "source": [
        "# Create a mapping from words to vectors\r\n",
        "word2Vec = Word2Vec(vectorSize=3, minCount=0, inputCol=\"words\", outputCol=\"result\")\r\n",
        "model = word2Vec.fit(wordsData)\r\n",
        "# print(model.getVectors().collect())\r\n",
        "# result = model.getVectors().collect()"
      ],
      "execution_count": 50,
      "outputs": []
    },
    {
      "cell_type": "code",
      "metadata": {
        "id": "SuP-6d_d7Tu8",
        "colab": {
          "base_uri": "https://localhost:8080/"
        },
        "outputId": "bc1a74f4-e802-4bc0-e96d-cdf001044522"
      },
      "source": [
        "# Show the synonyms and cosine similarity of the word in input data\r\n",
        "synonyms = model.findSynonyms(\"health\", 10)\r\n",
        "synonyms.show(10)"
      ],
      "execution_count": 51,
      "outputs": [
        {
          "output_type": "stream",
          "text": [
            "+---------+------------------+\n",
            "|     word|        similarity|\n",
            "+---------+------------------+\n",
            "|   failed|0.9568229913711548|\n",
            "|  iceberg|0.9516424536705017|\n",
            "|  expense|0.9511805176734924|\n",
            "|    “home|0.9346444606781006|\n",
            "|  include|0.9265121817588806|\n",
            "|    might|0.9211022853851318|\n",
            "|       us|0.9195706844329834|\n",
            "|   europe|0.9180535674095154|\n",
            "|       an|0.9174166917800903|\n",
            "|russians.|0.8989675641059875|\n",
            "+---------+------------------+\n",
            "\n"
          ],
          "name": "stdout"
        }
      ]
    },
    {
      "cell_type": "code",
      "metadata": {
        "id": "Kh5HDQsj4rqv"
      },
      "source": [
        "\r\n",
        "# Tokenize the abstract texts\r\n",
        "tokenizer = Tokenizer(inputCol=\"value\", outputCol=\"words\")\r\n",
        "wordsData = tokenizer.transform(abst)"
      ],
      "execution_count": 49,
      "outputs": []
    },
    {
      "cell_type": "code",
      "metadata": {
        "id": "a73DcE-sfegn"
      },
      "source": [
        "\r\n",
        "#closing the spark sessions\r\n",
        "spark.stop()\r\n",
        "spark2.stop()\r\n",
        "spark3.stop()\r\n",
        "spark4.stop()"
      ],
      "execution_count": null,
      "outputs": []
    }
  ]
}